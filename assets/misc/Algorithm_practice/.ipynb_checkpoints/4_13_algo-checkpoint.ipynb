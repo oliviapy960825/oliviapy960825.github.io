{
 "cells": [
  {
   "cell_type": "code",
   "execution_count": 31,
   "metadata": {},
   "outputs": [
    {
     "name": "stdout",
     "output_type": "stream",
     "text": [
      "a2b1c5a3\n"
     ]
    }
   ],
   "source": [
    "\"\"\"\n",
    "cracking the coding interview 1.6\n",
    "\"\"\"\n",
    "def compress_string(string):\n",
    "    if not string:\n",
    "        return None\n",
    "    if len(string)==0:\n",
    "        return ''\n",
    "    new_str=''\n",
    "    char=string[0]\n",
    "    i=0\n",
    "    count=0\n",
    "    while i<len(string):\n",
    "        if string[i]==char:\n",
    "            i+=1\n",
    "            count+=1\n",
    "        else: #string[i]!=char\n",
    "            new_str+=char+str(count)\n",
    "            char=string[i]\n",
    "            count=1\n",
    "            i+=1\n",
    "    new_str+=char+str(count)\n",
    "    return new_str\n",
    "    \n",
    "print(compress_string('aabcccccaaa'))#=='a2b1c5a3'"
   ]
  },
  {
   "cell_type": "code",
   "execution_count": 41,
   "metadata": {},
   "outputs": [
    {
     "name": "stdout",
     "output_type": "stream",
     "text": [
      "[[21, 16, 11, 6, 1], [22, 17, 12, 7, 2], [23, 18, 13, 8, 3], [24, 19, 14, 9, 4], [25, 20, 15, 10, 5]]\n"
     ]
    }
   ],
   "source": [
    "\"\"\"\n",
    "cracking the coding interview 1.7\n",
    "\"\"\"\n",
    "def rotate_matrix(matrix):\n",
    "    row=len(matrix)\n",
    "    col=len(matrix[0])\n",
    "    \n",
    "    new_matrix=[]\n",
    "    \n",
    "    for i in range(col):\n",
    "        new_list=[]\n",
    "        for j in range(row-1,-1,-1):\n",
    "            new_list.append(matrix[j][i])\n",
    "        new_matrix.append(new_list)\n",
    "        \n",
    "    return new_matrix\n",
    "\n",
    "\"\"\"data = [\n",
    "        ([\n",
    "            [1, 2, 3, 4, 5],\n",
    "            [6, 7, 8, 9, 10],\n",
    "            [11, 12, 13, 14, 15],\n",
    "            [16, 17, 18, 19, 20],\n",
    "            [21, 22, 23, 24, 25]\n",
    "        ], [\n",
    "            [21, 16, 11, 6, 1],\n",
    "            [22, 17, 12, 7, 2],\n",
    "            [23, 18, 13, 8, 3],\n",
    "            [24, 19, 14, 9, 4],\n",
    "            [25, 20, 15, 10, 5]\n",
    "        ])\n",
    "    ]\"\"\"\n",
    "data=[\n",
    "            [1, 2, 3, 4, 5],\n",
    "            [6, 7, 8, 9, 10],\n",
    "            [11, 12, 13, 14, 15],\n",
    "            [16, 17, 18, 19, 20],\n",
    "            [21, 22, 23, 24, 25]\n",
    "        ]\n",
    "\n",
    "print(rotate_matrix(data))"
   ]
  },
  {
   "cell_type": "code",
   "execution_count": 34,
   "metadata": {},
   "outputs": [
    {
     "name": "stdout",
     "output_type": "stream",
     "text": [
      "[[0, 0, 0, 0], [0, 0, 0, 0], [0, 0, 0, 0], [0, 0, 0, 0]]\n"
     ]
    }
   ],
   "source": [
    "\"\"\"\n",
    "cracking the coding interview 1.8\n",
    "\"\"\"\n",
    "def zero_matrix(matrix):\n",
    "    for i in range(len(matrix)):\n",
    "        for j in range(len(matrix[0])):\n",
    "            if matrix[i][j]==0:\n",
    "                matrix[i][0]=0\n",
    "                matrix[0][j]=0\n",
    "                \n",
    "    for i in range(len(matrix)):\n",
    "        if matrix[i][0]==0:\n",
    "            for j in range(len(matrix[i])):\n",
    "                matrix[i][j]=0\n",
    "                \n",
    "    for i in range(len(matrix[0])):\n",
    "        if matrix[0][i]==0:\n",
    "            for j in range(len(matrix)):\n",
    "                matrix[j][i]=0\n",
    "                \n",
    "    return matrix\n",
    "       \n",
    "    \n",
    "\"\"\"\n",
    "1,1,1,1\n",
    "0,1,1,0\n",
    "1,0,1,1\n",
    "0,0,1,1\n",
    "\"\"\"\n",
    "matrix=[[1,1,1,1],[0,1,1,0],[1,0,1,1],[0,0,1,1]]\n",
    "\n",
    "print(zero_matrix(matrix))"
   ]
  },
  {
   "cell_type": "code",
   "execution_count": 11,
   "metadata": {},
   "outputs": [],
   "source": [
    "\"\"\"\n",
    "#92 HARD\n",
    "This problem was asked by Airbnb.\n",
    "\n",
    "We're given a hashmap associating each courseId key with a list of courseIds values, which represents that the \n",
    "prerequisites of courseId are courseIds. Return a sorted ordering of courses such that we can finish all courses.\n",
    "\n",
    "Return null if there is no such ordering.\n",
    "\n",
    "For example, given {'CSC300': ['CSC100', 'CSC200'], 'CSC200': ['CSC100'], 'CSC100': []}, should return ['CSC100', \n",
    "'CSC200', 'CSCS300'].\n",
    "\"\"\"\n",
    "def helper(class_dict,class_name,lst,flag):#help check if the prerequisites are all in the lst already\n",
    "    temp=class_dict[class_name]\n",
    "    for i in temp:\n",
    "        if i in lst:\n",
    "            flag&=True\n",
    "        else:\n",
    "            flag&=False\n",
    "    return flag\n",
    "def jumper(class_dict,class_name,lst):#some prerequisites for class are not satisfied\n",
    "    \n",
    "    temp=class_dict[class_name]\n",
    "    for i in temp:#i is the prerequisite class list for class_name\n",
    "        if i not in lst:  # i not in lst\n",
    "            if helper(class_dict,i,lst,True): #all i's prerequisites are satisfied\n",
    "                lst.append(i)\n",
    "            else: #some of i's prerequisites are not satisfied\n",
    "                return jumper(class_dict,j,lst)\n",
    "    return True\n",
    "\n",
    "def order_class(class_dict):\n",
    "    if not class_dict:\n",
    "        return 'null'\n",
    "    if len(class_dict)==0:\n",
    "        return class_dict\n",
    "    lst=[]\n",
    "    for i in class_dict.keys():\n",
    "        if i in lst:\n",
    "            pass\n",
    "        elif len(class_dict[i])==0:\n",
    "            lst.append(i)\n",
    "        else:\n",
    "            if jumper(class_dict,i,lst):\n",
    "                lst.append(i)\n",
    "            else:\n",
    "                return 'null'\n",
    "    return lst"
   ]
  },
  {
   "cell_type": "code",
   "execution_count": 12,
   "metadata": {},
   "outputs": [
    {
     "name": "stdout",
     "output_type": "stream",
     "text": [
      "['CSC100', 'CSC200', 'CSC300']\n"
     ]
    }
   ],
   "source": [
    "class_dict={'CSC300': ['CSC100', 'CSC200'], 'CSC200': ['CSC100'], 'CSC100': []}\n",
    "print(order_class(class_dict))"
   ]
  },
  {
   "cell_type": "code",
   "execution_count": null,
   "metadata": {},
   "outputs": [],
   "source": []
  },
  {
   "cell_type": "code",
   "execution_count": 23,
   "metadata": {},
   "outputs": [
    {
     "name": "stdout",
     "output_type": "stream",
     "text": [
      "3\n"
     ]
    }
   ],
   "source": [
    "\"\"\"\n",
    "#7\n",
    "This problem was asked by Facebook.\n",
    "\n",
    "Given the mapping a = 1, b = 2, ... z = 26, and an encoded message, count the number of ways it can be decoded.\n",
    "\n",
    "For example, the message '111' would give 3, since it could be decoded as 'aaa', 'ka', and 'ak'.\n",
    "\n",
    "You can assume that the messages are decodable. For example, '001' is not allowed.\n",
    "\"\"\"\n",
    "mapping={'1':'a','2':'b','3':'c','4':'d','5':'e','6':'f','7':'g','8':'h','9':'i','10':'j','11':'k','12':'l','13':'m',\n",
    "        '14':'n','15':'o','16':'p','17':'q','18':'r','19':'s','20':'t','21':'u','22':'v','23':'w','24':'x','25':'y','26':'z'}\n",
    "\n",
    "def decode(string):\n",
    "    def helper(string):\n",
    "        if len(string)==0:\n",
    "            return 1\n",
    "        result=helper(string[1:])\n",
    "        if int(string[:2])<=26 and len(string)>=2:\n",
    "            result+=helper(string[2:])\n",
    "        \n",
    "        return result\n",
    "    if len(string)==0:\n",
    "        return 0\n",
    "    if len(string)==1:\n",
    "        return 1\n",
    "    \n",
    "    return helper(string)\n",
    "    #string has at least 2 characters\n",
    "print(decode('111'))\n",
    "\n",
    "\"\"\"\n",
    "How to return all combinations?\n",
    "\"\"\""
   ]
  },
  {
   "cell_type": "code",
   "execution_count": 44,
   "metadata": {},
   "outputs": [
    {
     "name": "stdout",
     "output_type": "stream",
     "text": [
      "7\n"
     ]
    }
   ],
   "source": [
    "\"\"\"\n",
    "#8\n",
    "This problem was asked by Google.\n",
    "\n",
    "A unival tree (which stands for \"universal value\") is a tree where all nodes under it have the same value.\n",
    "\n",
    "Given the root to a binary tree, count the number of unival subtrees.\n",
    "\n",
    "For example, the following tree has 5 unival subtrees:\n",
    "\n",
    "   0\n",
    "  / \\\n",
    " 1   0\n",
    "    / \\\n",
    "   1   0\n",
    "  / \\\n",
    " 1   1\n",
    "\n",
    "\"\"\"\n",
    "def check_unival(root):\n",
    "    if not root:\n",
    "        return True\n",
    "    if not root.left and not root.right:\n",
    "        return True\n",
    "    if root.left and not root.right:\n",
    "        return root.val==root.left.val\n",
    "    if root.right and not root.left:\n",
    "        return root.val==root.right.val\n",
    "    return check_unival(root.left) and check_unival(root.right)\n",
    "    \n",
    "def unival_tree(root):\n",
    "    if not root:\n",
    "        return 0\n",
    "    if not root.left and not root.right:\n",
    "        return 1\n",
    "    #there is at least one branch that is not None\n",
    "    count=unival_tree(root.left)+unival_tree(root.right)\n",
    "    if check_unival(root):\n",
    "        count+=1\n",
    "        \n",
    "    return count\n",
    "\n",
    "class Node:\n",
    "    def __init__(self, value, left=None, right=None):\n",
    "        self.value = value\n",
    "        self.left = left\n",
    "        self.right = right\n",
    "\n",
    "\n",
    "# construct the tree\n",
    "\n",
    "node_right_left_left = Node(1, None, None)\n",
    "node_right_left_right = Node(1, None, None)\n",
    "\n",
    "node_right_left = Node(1, node_right_left_left, node_right_left_right)\n",
    "node_right_right = Node(0, None, None)\n",
    "\n",
    "node_left = Node(1, None, None)\n",
    "node_right = Node(0, node_right_left, node_right_right)\n",
    "\n",
    "root = Node(0, node_left, node_right)\n",
    "\n",
    "print(unival_tree(root))"
   ]
  },
  {
   "cell_type": "code",
   "execution_count": 28,
   "metadata": {},
   "outputs": [
    {
     "ename": "KeyboardInterrupt",
     "evalue": "",
     "output_type": "error",
     "traceback": [
      "\u001b[0;31m---------------------------------------------------------------------------\u001b[0m",
      "\u001b[0;31mKeyboardInterrupt\u001b[0m                         Traceback (most recent call last)",
      "\u001b[0;32m<ipython-input-28-5189c3926174>\u001b[0m in \u001b[0;36m<module>\u001b[0;34m\u001b[0m\n\u001b[1;32m     48\u001b[0m             \u001b[0mp1\u001b[0m\u001b[0;34m+=\u001b[0m\u001b[0;36m2\u001b[0m\u001b[0;34m\u001b[0m\u001b[0;34m\u001b[0m\u001b[0m\n\u001b[1;32m     49\u001b[0m     \u001b[0;32mreturn\u001b[0m \u001b[0mmax\u001b[0m\u001b[0;34m(\u001b[0m\u001b[0mnum_sum1\u001b[0m\u001b[0;34m,\u001b[0m\u001b[0mnum_sum2\u001b[0m\u001b[0;34m)\u001b[0m\u001b[0;34m\u001b[0m\u001b[0;34m\u001b[0m\u001b[0m\n\u001b[0;32m---> 50\u001b[0;31m \u001b[0mprint\u001b[0m\u001b[0;34m(\u001b[0m\u001b[0mlargest_sum\u001b[0m\u001b[0;34m(\u001b[0m\u001b[0;34m[\u001b[0m\u001b[0;36m2\u001b[0m\u001b[0;34m,\u001b[0m \u001b[0;36m4\u001b[0m\u001b[0;34m,\u001b[0m \u001b[0;36m6\u001b[0m\u001b[0;34m,\u001b[0m \u001b[0;36m2\u001b[0m\u001b[0;34m,\u001b[0m \u001b[0;36m5\u001b[0m\u001b[0;34m]\u001b[0m\u001b[0;34m)\u001b[0m\u001b[0;34m)\u001b[0m\u001b[0;34m\u001b[0m\u001b[0;34m\u001b[0m\u001b[0m\n\u001b[0m\u001b[1;32m     51\u001b[0m \u001b[0mprint\u001b[0m\u001b[0;34m(\u001b[0m\u001b[0mlargest_sum\u001b[0m\u001b[0;34m(\u001b[0m\u001b[0;34m[\u001b[0m\u001b[0;36m5\u001b[0m\u001b[0;34m,\u001b[0m \u001b[0;36m1\u001b[0m\u001b[0;34m,\u001b[0m \u001b[0;36m1\u001b[0m\u001b[0;34m,\u001b[0m \u001b[0;36m5\u001b[0m\u001b[0;34m]\u001b[0m\u001b[0;34m)\u001b[0m\u001b[0;34m)\u001b[0m\u001b[0;34m\u001b[0m\u001b[0;34m\u001b[0m\u001b[0m\n",
      "\u001b[0;32m<ipython-input-28-5189c3926174>\u001b[0m in \u001b[0;36mlargest_sum\u001b[0;34m(lst)\u001b[0m\n\u001b[1;32m     24\u001b[0m     \u001b[0mnum_sum1\u001b[0m\u001b[0;34m=\u001b[0m\u001b[0mlst\u001b[0m\u001b[0;34m[\u001b[0m\u001b[0;36m0\u001b[0m\u001b[0;34m]\u001b[0m\u001b[0;34m\u001b[0m\u001b[0;34m\u001b[0m\u001b[0m\n\u001b[1;32m     25\u001b[0m     \u001b[0;32mwhile\u001b[0m \u001b[0mp1\u001b[0m\u001b[0;34m<\u001b[0m\u001b[0mlen\u001b[0m\u001b[0;34m(\u001b[0m\u001b[0mlst\u001b[0m\u001b[0;34m)\u001b[0m\u001b[0;34m:\u001b[0m\u001b[0;34m\u001b[0m\u001b[0;34m\u001b[0m\u001b[0m\n\u001b[0;32m---> 26\u001b[0;31m         \u001b[0;32mif\u001b[0m \u001b[0mp1\u001b[0m\u001b[0;34m+\u001b[0m\u001b[0;36m3\u001b[0m\u001b[0;34m<\u001b[0m\u001b[0mlen\u001b[0m\u001b[0;34m(\u001b[0m\u001b[0mlst\u001b[0m\u001b[0;34m)\u001b[0m\u001b[0;34m:\u001b[0m\u001b[0;34m\u001b[0m\u001b[0;34m\u001b[0m\u001b[0m\n\u001b[0m\u001b[1;32m     27\u001b[0m             \u001b[0;32mif\u001b[0m \u001b[0mnum_sum1\u001b[0m\u001b[0;34m+\u001b[0m\u001b[0mlst\u001b[0m\u001b[0;34m[\u001b[0m\u001b[0mp1\u001b[0m\u001b[0;34m+\u001b[0m\u001b[0;36m2\u001b[0m\u001b[0;34m]\u001b[0m\u001b[0;34m>\u001b[0m\u001b[0mnum_sum1\u001b[0m\u001b[0;34m+\u001b[0m\u001b[0mlst\u001b[0m\u001b[0;34m[\u001b[0m\u001b[0mp1\u001b[0m\u001b[0;34m+\u001b[0m\u001b[0;36m3\u001b[0m\u001b[0;34m]\u001b[0m\u001b[0;34m:\u001b[0m\u001b[0;34m\u001b[0m\u001b[0;34m\u001b[0m\u001b[0m\n\u001b[1;32m     28\u001b[0m                 \u001b[0mnum_sum1\u001b[0m\u001b[0;34m+=\u001b[0m\u001b[0mlst\u001b[0m\u001b[0;34m[\u001b[0m\u001b[0mp1\u001b[0m\u001b[0;34m+\u001b[0m\u001b[0;36m2\u001b[0m\u001b[0;34m]\u001b[0m\u001b[0;34m\u001b[0m\u001b[0;34m\u001b[0m\u001b[0m\n",
      "\u001b[0;31mKeyboardInterrupt\u001b[0m: "
     ]
    }
   ],
   "source": [
    "\"\"\"\n",
    "#9 HARD\n",
    "This problem was asked by Airbnb.\n",
    "\n",
    "Given a list of integers, write a function that returns the largest sum of non-adjacent numbers. Numbers can be 0 or \n",
    "negative.\n",
    "\n",
    "For example, [2, 4, 6, 2, 5] should return 13, since we pick 2, 6, and 5. [5, 1, 1, 5] should return 10, since we pick\n",
    "5 and 5.\n",
    "\n",
    "Follow-up: Can you do this in O(N) time and constant space?\n",
    "\"\"\"\n",
    "def largest_sum(lst):\n",
    "    if not lst:\n",
    "        return None\n",
    "    if len(lst)==0:\n",
    "        return 0\n",
    "    if len(lst)<2:\n",
    "        return lst[0]\n",
    "    if len(lst)==2:\n",
    "        return max(lst[0],lst[1])\n",
    "    #+2 or +3 each time\n",
    "    p1=0\n",
    "    num_sum1=lst[0]\n",
    "    while p1<len(lst):\n",
    "        if p1+3<len(lst):\n",
    "            if num_sum1+lst[p1+2]>num_sum1+lst[p1+3]:\n",
    "                num_sum1+=lst[p1+2]\n",
    "                p1+=2\n",
    "            else:\n",
    "                num_sum1+=lst[p1+3]\n",
    "                p1+=3\n",
    "        elif p1+2<len(lst):\n",
    "            num_sum1+=lst[p1+2]\n",
    "            p1+=2\n",
    "    p2=1\n",
    "    num_sum2=lst[1]\n",
    "    while p2<len(lst):\n",
    "        if p2+3<len(lst):\n",
    "            if num_sum2+lst[p2+2]>num_sum2+lst[p2+3]:\n",
    "                num_sum2+=lst[p2+2]\n",
    "                p2+=2\n",
    "            else:\n",
    "                num_sum2+=lst[p2+3]\n",
    "                p2+=3\n",
    "        elif p2+2<len(lst):\n",
    "            num_sum2+=lst[p2+2]\n",
    "            p1+=2\n",
    "    return max(num_sum1,num_sum2)\n",
    "print(largest_sum([2, 4, 6, 2, 5]))\n",
    "print(largest_sum([5, 1, 1, 5]))"
   ]
  },
  {
   "cell_type": "code",
   "execution_count": null,
   "metadata": {},
   "outputs": [],
   "source": [
    "\"\"\"\n",
    "#10\n",
    "This problem was asked by Apple.\n",
    "\n",
    "Implement a job scheduler which takes in a function f and an integer n, and calls f after n milliseconds.\n",
    "\"\"\"\n",
    "import time\n",
    "def job_scheduler(f,n):\n",
    "    time.sleep(0.001*n)\n",
    "    f\n",
    "    \n",
    "\"\"\"\n",
    "more elaborated answer:\n",
    "https://stackoverflow.com/questions/55642383/calling-a-function-with-delay\n",
    "\"\"\""
   ]
  },
  {
   "cell_type": "code",
   "execution_count": 25,
   "metadata": {},
   "outputs": [
    {
     "name": "stdout",
     "output_type": "stream",
     "text": [
      "['deer', 'deal']\n"
     ]
    }
   ],
   "source": [
    "\"\"\"\n",
    "#11\n",
    "This problem was asked by Twitter.\n",
    "\n",
    "Implement an autocomplete system. That is, given a query string s and a set of all possible query strings, return all \n",
    "strings in the set that have s as a prefix.\n",
    "\n",
    "For example, given the query string de and the set of strings [dog, deer, deal], return [deer, deal].\n",
    "\n",
    "Hint: Try preprocessing the dictionary into a more efficient data structure to speed up queries.\n",
    "\"\"\"\n",
    "#Use Trie? https://www.geeksforgeeks.org/auto-complete-feature-using-trie/\n",
    "\n",
    "def autocomplete(prefix,strings):\n",
    "    length=len(prefix)\n",
    "    lst=[]\n",
    "    for i in strings: #O(n)\n",
    "        if i[:length]==prefix:\n",
    "            lst.append(i)\n",
    "            \n",
    "    return lst\n",
    "strings=['dog', 'deer', 'deal']\n",
    "prefix='de'\n",
    "print(autocomplete(prefix,strings))"
   ]
  },
  {
   "cell_type": "code",
   "execution_count": null,
   "metadata": {},
   "outputs": [],
   "source": []
  },
  {
   "cell_type": "code",
   "execution_count": null,
   "metadata": {},
   "outputs": [],
   "source": []
  },
  {
   "cell_type": "code",
   "execution_count": null,
   "metadata": {},
   "outputs": [],
   "source": []
  }
 ],
 "metadata": {
  "kernelspec": {
   "display_name": "Python 3",
   "language": "python",
   "name": "python3"
  },
  "language_info": {
   "codemirror_mode": {
    "name": "ipython",
    "version": 3
   },
   "file_extension": ".py",
   "mimetype": "text/x-python",
   "name": "python",
   "nbconvert_exporter": "python",
   "pygments_lexer": "ipython3",
   "version": "3.7.3"
  }
 },
 "nbformat": 4,
 "nbformat_minor": 2
}
