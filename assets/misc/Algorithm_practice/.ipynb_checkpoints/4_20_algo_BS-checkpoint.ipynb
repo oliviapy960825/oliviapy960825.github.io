{
 "cells": [
  {
   "cell_type": "code",
   "execution_count": null,
   "metadata": {},
   "outputs": [],
   "source": [
    "\"\"\"\n",
    "#99\n",
    "This problem was asked by Microsoft.\n",
    "\n",
    "Given an unsorted array of integers, find the length of the longest consecutive elements sequence.\n",
    "\n",
    "For example, given [100, 4, 200, 1, 3, 2], the longest consecutive element sequence is [1, 2, 3, 4]. Return its length: 4.\n",
    "\n",
    "Your algorithm should run in O(n) complexity.\n",
    "\"\"\"\n"
   ]
  },
  {
   "cell_type": "code",
   "execution_count": 2,
   "metadata": {},
   "outputs": [
    {
     "data": {
      "text/plain": [
       "-1"
      ]
     },
     "execution_count": 2,
     "metadata": {},
     "output_type": "execute_result"
    }
   ],
   "source": [
    "\"\"\"\n",
    "Suppose a sorted array is rotated at some pivot unknown to you beforehand.\n",
    "\n",
    "(i.e., 0 1 2 4 5 6 7 might become 4 5 6 7 0 1 2).\n",
    "\n",
    "You are given a target value to search. If found in the array return its index, otherwise return -1.\n",
    "\n",
    "You may assume no duplicate exists in the array.\n",
    "\n",
    "Example\n",
    "\n",
    "Example 1:\n",
    "\n",
    "Input: [4, 5, 1, 2, 3] and target=1, \n",
    "Output: 2.\n",
    "\n",
    "Example 2:\n",
    "\n",
    "Input: [4, 5, 1, 2, 3] and target=0, \n",
    "Output: -1.\n",
    "\n",
    "Challenge\n",
    "\n",
    "O(logN) time\n",
    "\n",
    "\"\"\"\n",
    "\n",
    "def search(arr,target):\n",
    "    for i in range(len(arr)):\n",
    "        if arr[i]==target:\n",
    "            return i\n",
    "    return -1\n",
    "def bi_search(arr,target):\n",
    "    l=0\n",
    "    r=len(arr)-1\n",
    "    while l+1<r:\n",
    "        mid=l+(r-l)//2\n",
    "        if arr[mid]==target:\n",
    "            return mid\n",
    "        else:\n",
    "            if arr[l]<arr[r]:\n",
    "                if arr[mid]<target:\n",
    "                    l=mid\n",
    "                elif arr[mid]>target:\n",
    "                    r=mid\n",
    "            elif arr[l]>arr[r]:\n",
    "                if target<arr[l]:\n",
    "                    l=mid\n",
    "                elif target>arr[l]:\n",
    "                    r=mid\n",
    "    if arr[l]==target:\n",
    "        return l\n",
    "    if arr[r]==target:\n",
    "        return r\n",
    "    return -1\n",
    "            \n",
    "arr=[4, 5, 1, 2, 3] \n",
    "target=1\n",
    "target=0\n",
    "search(arr,target)"
   ]
  },
  {
   "cell_type": "code",
   "execution_count": null,
   "metadata": {},
   "outputs": [],
   "source": []
  }
 ],
 "metadata": {
  "kernelspec": {
   "display_name": "Python 3",
   "language": "python",
   "name": "python3"
  },
  "language_info": {
   "codemirror_mode": {
    "name": "ipython",
    "version": 3
   },
   "file_extension": ".py",
   "mimetype": "text/x-python",
   "name": "python",
   "nbconvert_exporter": "python",
   "pygments_lexer": "ipython3",
   "version": "3.7.3"
  }
 },
 "nbformat": 4,
 "nbformat_minor": 2
}
