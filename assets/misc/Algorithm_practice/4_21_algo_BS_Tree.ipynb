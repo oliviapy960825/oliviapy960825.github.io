{
 "cells": [
  {
   "cell_type": "code",
   "execution_count": 12,
   "metadata": {},
   "outputs": [
    {
     "name": "stdout",
     "output_type": "stream",
     "text": [
      "1\n",
      "-1\n"
     ]
    }
   ],
   "source": [
    "\"\"\"\n",
    "Search in a big sorted array\n",
    "\n",
    "Given a big sorted array with non-negative integers sorted by non-decreasing order. The array is so big so that you \n",
    "can not get the length of the whole array directly, and you can only access the kth number by ArrayReader.get(k) \n",
    "(or ArrayReader->get(k) for C++).\n",
    "\n",
    "Find the first index of a target number. Your algorithm should be in O(log k), where k is the first index of the \n",
    "target number.\n",
    "\n",
    "Return -1, if the number doesn't exist in the array.\n",
    "\n",
    "Example\n",
    "Example 1:\n",
    "\n",
    "Input: [1, 3, 6, 9, 21, ...], target = 3\n",
    "Output: 1\n",
    "Example 2:\n",
    "\n",
    "Input: [1, 3, 6, 9, 21, ...], target = 4\n",
    "Output: -1\n",
    "Challenge\n",
    "O(logn) time, n is the first index of the given target number.\n",
    "\n",
    "Notice\n",
    "If you accessed an inaccessible index (outside of the array), ArrayReader.get will return 2,147,483,647.\n",
    "\n",
    "\"\"\"\n",
    "import numpy as np\n",
    "def get_num(arr,target):\n",
    "    if arr[0]==target:\n",
    "        return 0\n",
    "    if arr[1]==target:\n",
    "        return 1\n",
    "    left=0\n",
    "    right=left*2+1\n",
    "    while left+1<right and arr[right]!=2147483647:\n",
    "        mid=left+(right-left)//2\n",
    "        if arr[mid]==target:\n",
    "            right=mid\n",
    "        elif arr[mid]<target:\n",
    "            left=mid\n",
    "        elif arr[mid]>target:\n",
    "            right=mid\n",
    "    if arr[left]==target:\n",
    "        return left\n",
    "    elif arr[right]==target:\n",
    "        return right\n",
    "    return -1\n",
    "\n",
    "arr=[1,3,6,9,21]\n",
    "print(get_num(arr,3))\n",
    "print(get_num(arr,4))"
   ]
  },
  {
   "cell_type": "code",
   "execution_count": 13,
   "metadata": {},
   "outputs": [
    {
     "name": "stdout",
     "output_type": "stream",
     "text": [
      "8\n",
      "10\n"
     ]
    }
   ],
   "source": [
    "\"\"\"\n",
    "Given a mountain sequence of n integers which increase firstly and then decrease, find the mountain top.\n",
    "\n",
    "Example\n",
    "Example 1:\n",
    "\n",
    "Input: nums = [1, 2, 4, 8, 6, 3] \n",
    "Output: 8\n",
    "Example 2:\n",
    "\n",
    "Input: nums = [10, 9, 8, 7], \n",
    "Output: 10\n",
    "\n",
    "\"\"\"\n",
    "def easy(arr):\n",
    "    top=arr[0]\n",
    "    for i in arr:\n",
    "        top=max(top,i)\n",
    "        \n",
    "    return top\n",
    "def bs(arr):\n",
    "    if not arr or len(arr)==0:\n",
    "        return -1\n",
    "    if len(arr)==1:\n",
    "        return arr[0]\n",
    "    if len(arr)==2:\n",
    "        return max(arr[0],arr[1])\n",
    "    left=0\n",
    "    right=len(arr)-1\n",
    "    while left+1<right:\n",
    "        mid=left+(right-left)//2\n",
    "        if mid>=1 and mid<len(arr)-1 and arr[mid]>arr[mid-1] and arr[mid]>arr[mid+1]:\n",
    "            return arr[mid]\n",
    "        elif arr[left]<arr[mid]:\n",
    "            left=mid\n",
    "        elif arr[left]>arr[mid]:\n",
    "            right=mid\n",
    "    if arr[left]>arr[right]:\n",
    "        return arr[left]\n",
    "    elif arr[right]>arr[left]:\n",
    "        return arr[right]\n",
    "    \n",
    "print(bs([1, 2, 4, 8, 6, 3]))\n",
    "print(bs([10, 9, 8, 7]))"
   ]
  },
  {
   "cell_type": "code",
   "execution_count": null,
   "metadata": {},
   "outputs": [],
   "source": [
    "\"\"\"\n",
    "1044. Longest Duplicate Substring\n",
    "\n",
    "Given a string S, consider all duplicated substrings: (contiguous) substrings of S that occur 2 or more times.  \n",
    "(The occurrences may overlap.) Return any duplicated substring that has the longest possible length.  (If S does not \n",
    "have a duplicated substring, the answer is \"\".)\n",
    "\n",
    " \n",
    "\n",
    "Example 1:\n",
    "\n",
    "Input: \"banana\"\n",
    "Output: \"ana\"\n",
    "Example 2:\n",
    "\n",
    "Input: \"abcd\"\n",
    "Output: \"\"\n",
    " \n",
    "\n",
    "Note:\n",
    "\n",
    "2 <= S.length <= 10^5\n",
    "S consists of lowercase English letters.\n",
    "\"\"\""
   ]
  }
 ],
 "metadata": {
  "kernelspec": {
   "display_name": "Python 3",
   "language": "python",
   "name": "python3"
  },
  "language_info": {
   "codemirror_mode": {
    "name": "ipython",
    "version": 3
   },
   "file_extension": ".py",
   "mimetype": "text/x-python",
   "name": "python",
   "nbconvert_exporter": "python",
   "pygments_lexer": "ipython3",
   "version": "3.7.3"
  }
 },
 "nbformat": 4,
 "nbformat_minor": 2
}
