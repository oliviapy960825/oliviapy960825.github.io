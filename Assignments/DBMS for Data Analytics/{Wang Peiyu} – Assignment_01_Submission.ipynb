{
 "cells": [
  {
   "cell_type": "markdown",
   "metadata": {},
   "source": [
    "# Assignment 01 - Mongo\n",
    "*EMSE 6586 - DBMS for Analytics*\n",
    "\n",
    "Due **date**"
   ]
  },
  {
   "cell_type": "markdown",
   "metadata": {},
   "source": [
    "*Notes:*\n",
    " - All code should follow the PEP 8 Style Guide for Python\n",
    " - Assignment should be submitted using jupyter notebooks\n",
    "  - File name should follow “{Your Name} – Assignment_XX_Submission”\n",
    "  - Each Task should be contained in its own cell\n",
    "  - Each Task should be properly commented\n",
    "  - Each Task should print out the answer to the Task if appropriate\n",
    "  - Sample submission can be found on blackboard\n",
    "  - **Not following these standards may result in lost points**"
   ]
  },
  {
   "cell_type": "code",
   "execution_count": 16,
   "metadata": {},
   "outputs": [],
   "source": [
    "\"\"\"\n",
    "pass in connection information so that it's ready to connect\n",
    "then connect and rename the emse6992 connection to client\n",
    "\"\"\"\n",
    "from pymongo import MongoClient\n",
    "import pymongo\n",
    "client = MongoClient(host='3.17.135.90', #host is the hostname for the database\n",
    "                     port=27017, #port is the port number that mongo is running on\n",
    "                     username='student', #username for the db\n",
    "                     password='emse6992pass', #password for the db\n",
    "                     authSource='emse6992') #Since our user only exists for the emse6992 db, we need to specify this\n",
    "db = client.emse6992"
   ]
  },
  {
   "cell_type": "markdown",
   "metadata": {},
   "source": [
    "## Task 1\n",
    "Write a function that takes a user's screen_name and will determine the number of statuses they've made, tweets of theirs that have been retweeted, and how many tweets they've favorited."
   ]
  },
  {
   "cell_type": "code",
   "execution_count": 12,
   "metadata": {},
   "outputs": [
    {
     "name": "stdout",
     "output_type": "stream",
     "text": [
      "the number of tweets they have made is: 2133\n",
      "the number of retweets they have made is: 1321\n",
      "the number of tweets they have favorited is: 8\n"
     ]
    }
   ],
   "source": [
    "\n",
    "def get_stats_retweets_favs(user):\n",
    "    \"\"\"\n",
    "    return none\n",
    "    Args:\n",
    "    user(string)-the name string of a user\n",
    "    Returns:\n",
    "    None\n",
    "    This function calculates and print out the number a tweets have made, tweets of theirs that have been retweeted\n",
    "    and the number of tweets they have favorited based on the name of the user\n",
    "    \"\"\"\n",
    "    #the number of statuses they have made\n",
    "    num_statuses=0\n",
    "    coll = db.twitter_statuses\n",
    "    docs = coll.find({\"user.screen_name\": user})\n",
    "    for i in docs:\n",
    "        num_statuses+=1\n",
    "    print(\"the number of tweets they have made is: \" + str(num_statuses))#successful\n",
    "    #the number of tweets of theirs that have been retweeted\n",
    "    num_retweeted=0\n",
    "    coll = db.twitter_retweets\n",
    "    docs = coll.find({\"user_mentions.screen_name\": user})\n",
    "    for i in docs:\n",
    "        num_retweeted+=1\n",
    "    print(\"the number of retweets they have made is: \" + str(num_retweeted))#successful\n",
    "    #the number of tweets they have favorited\n",
    "    num_favorited=0\n",
    "    coll = db.twitter_favorites\n",
    "    docs = coll.find({\"favorited_by_screen_name\": user})\n",
    "    for i in docs:\n",
    "        num_favorited+=1\n",
    "    print(\"the number of tweets they have favorited is: \" + str(num_favorited))#successful\n",
    "\n",
    "get_stats_retweets_favs(\"realDonaldTrump\")\n"
   ]
  },
  {
   "cell_type": "markdown",
   "metadata": {},
   "source": [
    "## Task 2\n",
    "Plot the distribution/histogram of user's total retweet count (*sum of {\"twitter_statuses\": \"retweet_count\"} per user*).\n",
    "\n",
    "In the markdown cell provided, fill in the user with the most retweets."
   ]
  },
  {
   "cell_type": "code",
   "execution_count": 16,
   "metadata": {},
   "outputs": [
    {
     "name": "stdout",
     "output_type": "stream",
     "text": [
      "['realDonaldTrump', 'VP', 'GOPChairwoman', 'parscale', 'PressSec', 'TuckerCarlson', 'JesseBWatters', 'WhiteHouse', 'Scavino45', 'KellyannePolls', 'Reince', 'RealRomaDowney', 'Trump', 'TrumpGolf', 'TiffanyATrump', 'IngrahamAngle', 'mike_pence', 'TeamTrump', 'DRUDGE_REPORT', 'MrsVanessaTrump', 'LaraLeaTrump', 'seanhannity', 'CLewandowski_', 'DiamondandSilk', 'KatrinaCampins', 'KatrinaPierson', 'foxandfriends', 'MELANIATRUMP', 'GeraldoRivera', 'ericbolling', 'MarkBurnettTV', 'garyplayer', 'VinceMcMahon', 'DanScavino', 'TrumpDoral', 'TrumpCharlotte', 'TrumpLasVegas', 'TrumpChicago', 'TrumpGolfDC', 'TrumpGolfLA', 'EricTrump', 'BillOReilly', 'greta', 'piersmorgan', 'DonaldJTrumpJr', 'IvankaTrump']\n",
      "[43084275, 6578382, 6503147, 4590861, 12131092, 3269322, 918842, 10480269, 13285361, 5427308, 1365099, 849486, 185651, 86225, 293744, 6252830, 3459560, 11329912, 185254, 1433315, 3576766, 1253228, 2530677, 19502922, 249822, 16489759, 595263, 3175893, 588445, 2819947, 159993, 1128322, 4951802, 7359906, 16807, 24031, 14976, 26583, 3449, 31209, 9540043, 3107797, 1435760, 1354053, 14104018, 5145513]\n"
     ]
    },
    {
     "data": {
      "image/png": "[encoded data removed]",
      "text/plain": [
       "<Figure size 432x288 with 1 Axes>"
      ]
     },
     "metadata": {
      "needs_background": "light"
     },
     "output_type": "display_data"
    },
    {
     "name": "stdout",
     "output_type": "stream",
     "text": [
      "Therefore, the person who tweeted the most is: realDonaldTrump\n"
     ]
    }
   ],
   "source": [
    "#Room for work\n",
    "import matplotlib.mlab as mlab\n",
    "import matplotlib.pyplot as plt\n",
    "total_retweet_count_list=[]\n",
    "user_list=[]\n",
    "\n",
    "\"\"\"\n",
    "This part it's going to look into the database and find all the users who have had their tweets retweeted\n",
    "and then calculate the total retweet count of their tweets based on their names, then plot the total retweet\n",
    "count histogram and print out who has had most of the retweets\n",
    "\"\"\"\n",
    "\n",
    "#find the users whose tweets have \"retweet_count\" section\n",
    "coll = db.twitter_statuses\n",
    "docs = coll.find({'retweet_count':{\"$exists\":True}})\n",
    "\n",
    "#print(docs[0])\n",
    "#put all unique users into userlist\n",
    "for doc in docs:\n",
    "    if doc[\"user\"][\"screen_name\"] not in user_list:\n",
    "        user_list.append(doc[\"user\"][\"screen_name\"])\n",
    "print(\"The users are: \"+user_list)\n",
    "\n",
    "print() \n",
    "\n",
    "\n",
    "#for every user in the user_list, calculate their total retweet count and then store the total retweet count in total_retweet_count_list\n",
    "#print(len(user_list))\n",
    "for i in user_list:\n",
    "    docs = coll.find({'user.screen_name':i})\n",
    "    total_retweet_count=0\n",
    "    for doc in docs:   \n",
    "        #print(doc)\n",
    "        for j in doc:\n",
    "            #print(j)\n",
    "            #print(j==\"retweet_count\")\n",
    "            if j==\"retweet_count\":\n",
    "                #print(doc[j])\n",
    "                total_retweet_count+=doc[j]\n",
    "    total_retweet_count_list.append(total_retweet_count)\n",
    "print(\"The total number of retweets each user has are: \"+total_retweet_count_list)\n",
    "\n",
    "\n",
    "#plot the data within total_retweet_count_list\n",
    "plt.hist(total_retweet_count_list,color=\"blue\",label=user_list)\n",
    "plt.show()\n",
    "\n",
    "\n",
    "#print out who has their tweets retweeted the most\n",
    "print()\n",
    "user_index=total_retweet_count_list.index(max(total_retweet_count_list))\n",
    "print(\"Therefore, the person who tweeted the most is: \"+user_list[user_index])"
   ]
  },
  {
   "cell_type": "markdown",
   "metadata": {},
   "source": [
    "User with most retweets:"
   ]
  },
  {
   "cell_type": "markdown",
   "metadata": {},
   "source": [
    "## Task 3\n",
    "Do trumps tweets that mention the wall (e.g. match a regex for 'wall') have a higher average retweet count than those that do not?"
   ]
  },
  {
   "cell_type": "code",
   "execution_count": 36,
   "metadata": {},
   "outputs": [
    {
     "name": "stdout",
     "output_type": "stream",
     "text": [
      "The total number of Trump's tweets that mention the wall is: 61\n",
      "The total retweet count of Trump's tweets that mention the wall is: 1485147\n",
      "The total number of Trump's tweets that don't mention the wall is: 2133\n",
      "The total retweet count of Trump's tweets that mention the wall is: 43084275\n",
      "the average retweet count of tweets that mention the wall is :24346.67213114754\n",
      "the average retweet count of tweets that didn't mention the wall is :20198.9099859353\n"
     ]
    }
   ],
   "source": [
    "#Room for work\n",
    "\"\"\"\n",
    "This part is going to find the tweets of trump that mention the wall and don't mention the wall and calculate the\n",
    "average retweet count respectively\n",
    "\"\"\"\n",
    "coll = db.twitter_statuses\n",
    "\n",
    "\n",
    "\n",
    "\n",
    "\n",
    "#find\n",
    "#calculate the average retweent count for tweets that mention the wall\n",
    "retweet_count_trump=0\n",
    "tweet_count=0\n",
    "docs = coll.find({\"$and\":[{\"text\": {\"$regex\": 'wall', \"$options\": 'i'}},{\"user.screen_name\":\"realDonaldTrump\"}]})\n",
    "#db.getCollection('twitter_retweets').find({\"text\": {$regex: 'wall', $options: 'i'}})\n",
    "for i in docs:\n",
    "    for j in i:\n",
    "        if j==\"retweet_count\":\n",
    "            tweet_count+=1\n",
    "            #print(i[\"retweet_count\"])\n",
    "            #print(type(i[\"retweet_count\"]))\n",
    "            retweet_count_trump+=i[j]\n",
    "    \n",
    "print(\"The total number of Trump's tweets that mention the wall is: \"+str(tweet_count))\n",
    "print(\"The total retweet count of Trump's tweets that mention the wall is: \"+str(retweet_count_trump))\n",
    "wall_average_retweet_count=retweet_count_trump/tweet_count\n",
    "\n",
    "\n",
    "#calculate the average retweet count for tweets that don't mention the wall\n",
    "retweet_count_trump=0\n",
    "tweet_count=0\n",
    "#calculate the average retweent count for tweets that didn't mention the wall\n",
    "docs = coll.find({'$and':[{'user.screen_name':'realDonaldTrump'},{'text':{'$regex':'.*','$options':'i','$nin':['wall']}}]})\n",
    "for i in docs:\n",
    "    for j in i:\n",
    "        if j==\"retweet_count\":\n",
    "            tweet_count+=1\n",
    "            #print(i[j])\n",
    "            #print(type(i[\"retweet_count\"]))\n",
    "            retweet_count_trump+=i[j]\n",
    "    \n",
    "    \n",
    "print(\"The total number of Trump's tweets that don't mention the wall is: \"+ str(tweet_count))\n",
    "print(\"The total retweet count of Trump's tweets that mention the wall is: \"+str(retweet_count_trump))\n",
    "no_wall_average_retweet_count=retweet_count_trump/tweet_count\n",
    "\n",
    "print(\"the average retweet count of tweets that mention the wall is :\" + str(wall_average_retweet_count))\n",
    "print(\"the average retweet count of tweets that didn't mention the wall is :\" + str(no_wall_average_retweet_count))\n",
    "\n",
    "#Therefore, the tweets of Trump that mention the wall actually HAVE a HIGHER \n",
    "#average retweet count than those that do not"
   ]
  },
  {
   "cell_type": "markdown",
   "metadata": {},
   "source": [
    "## Task 4 \n",
    "Determine the correlation between the length of a tweet and the number of times it is favorited. Can only look a limited number of tweets. numpy.corr()"
   ]
  },
  {
   "cell_type": "code",
   "execution_count": 14,
   "metadata": {},
   "outputs": [
    {
     "name": "stdout",
     "output_type": "stream",
     "text": [
      "[116, 82, 140, 140, 140, 140, 140, 140, 140, 139, 121, 140, 137, 139, 68, 148, 130, 51, 68, 138]\n",
      "[3486, 1711, 1522, 1522, 1522, 1522, 1522, 1522, 105765, 102293, 3262, 1767, 5360, 2819, 1691, 108696, 1908, 136694, 3384, 1391]\n",
      "    length_list  favorited_time_list\n",
      "0           116                 3486\n",
      "1            82                 1711\n",
      "2           140                 1522\n",
      "3           140                 1522\n",
      "4           140                 1522\n",
      "5           140                 1522\n",
      "6           140                 1522\n",
      "7           140                 1522\n",
      "8           140               105765\n",
      "9           139               102293\n",
      "10          121                 3262\n",
      "11          140                 1767\n",
      "12          137                 5360\n",
      "13          139                 2819\n",
      "14           68                 1691\n",
      "15          148               108696\n",
      "16          130                 1908\n",
      "17           51               136694\n",
      "18           68                 3384\n",
      "19          138                 1391\n",
      "                     length_list  favorited_time_list\n",
      "length_list             1.000000            -0.140228\n",
      "favorited_time_list    -0.140228             1.000000\n"
     ]
    }
   ],
   "source": [
    "#Room for work\n",
    "\"\"\"\n",
    "This part will find the tweets that have favorite_count section and store the length of the\n",
    "tweets and the number of times they are favorited and calculate the correlation between them\n",
    "\"\"\"\n",
    "import pandas as pd\n",
    "import numpy as np\n",
    "\n",
    "\n",
    "#Find the tweets that have favorite_count section\n",
    "\n",
    "coll = db.twitter_favorites\n",
    "docs = coll.find({'favorite_count':{\"$exists\":True}})\n",
    "\n",
    "#Set the number of tweets to 20 and for each tweet append the length of it and the favorite \n",
    "#count of it to length_list and favorited_time_list respectively.\n",
    "length_list=[]\n",
    "favorited_time_list=[]\n",
    "for i in docs[:20]:\n",
    "    length_list.append(len(i[\"text\"]))\n",
    "    favorited_time_list.append(i[\"favorite_count\"])\n",
    "print(length_list)\n",
    "print(favorited_time_list)\n",
    "\n",
    "#create a dataframe with the length_list and favorited_time_list\n",
    "df=pd.DataFrame()\n",
    "df['length_list']=np.array(length_list)\n",
    "df['favorited_time_list']=np.array(favorited_time_list)\n",
    "print(df)\n",
    "\n",
    "#calculate the correlation between the length of tweets and the favorited_time_list with pearson method\n",
    "print (df.corr(method='pearson'))"
   ]
  },
  {
   "cell_type": "markdown",
   "metadata": {},
   "source": [
    "## Task 5\n",
    "Insert a student_info object (*framework provided below*) into the student_info collection. Remember to make some more fake info up in the obj"
   ]
  },
  {
   "cell_type": "code",
   "execution_count": 2,
   "metadata": {},
   "outputs": [],
   "source": [
    "sample_obj = {\n",
    "    \"Name\": \"Joel Klein\",\n",
    "    \"Favorite Movies\": [\n",
    "        'Great Big Fish',\n",
    "        'Princess Mononoke',\n",
    "        'Memento',\n",
    "        'Life is Beautiful'\n",
    "    ],\n",
    "    \"Programming Languages\": [\n",
    "        {\n",
    "            'Name': 'Python',\n",
    "            'Years of Experience': 6,\n",
    "            'Currently Use': True\n",
    "        },\n",
    "        {\n",
    "            'Name': 'Javascript',\n",
    "            'Years of Experience': 4.5,\n",
    "            'Currently Use': False\n",
    "        }\n",
    "    ],\n",
    "    \"Pets\": None\n",
    "}"
   ]
  },
  {
   "cell_type": "code",
   "execution_count": 51,
   "metadata": {},
   "outputs": [
    {
     "name": "stdout",
     "output_type": "stream",
     "text": [
      "{'_id': ObjectId('5c5bac61dfd8ff1b9a6d9425'), 'Name': 'Joel Klein', 'Favorite Movies': ['Great Big Fish', 'Princess Mononoke', 'Memento', 'Life is Beautiful'], 'Programming Languages': [{'Name': 'Python', 'Years of Experience': 6, 'Currently Use': True}, {'Name': 'Javascript', 'Years of Experience': 4.5, 'Currently Use': False}], 'Pets': None, 'Class Teaching': 'EMSE6586'}\n",
      "{'_id': ObjectId('5c5c4e99dfd8ff1b9a6d9426'), 'Name': 'Joel Klein', 'Favorite Movies': ['Great Big Fish', 'Princess Mononoke', 'Memento', 'Life is Beautiful'], 'Programming Languages': [{'Name': 'Python', 'Years of Experience': 6, 'Currently Use': True}, {'Name': 'Javascript', 'Years of Experience': 4.5, 'Currently Use': False}], 'Pets': None, 'Class Teaching': 'EMSE6586'}\n"
     ]
    }
   ],
   "source": [
    "#Room for work\n",
    "\"\"\"\n",
    "This part will connect to student_info database and insert a new object to student_info database\n",
    "\"\"\"\n",
    "#connect to student_info database and rename it to student_coll\n",
    "student_coll = db.student_info\n",
    "\n",
    "#create a new object called obj_by_olivia\n",
    "obj_by_olivia = {\n",
    "    \"Name\": \"Joel Klein\",\n",
    "    \"Favorite Movies\": [\n",
    "        'Great Big Fish',\n",
    "        'Princess Mononoke',\n",
    "        'Memento',\n",
    "        'Life is Beautiful'\n",
    "    ],\n",
    "    \"Programming Languages\": [\n",
    "        {\n",
    "            'Name': 'Python',\n",
    "            'Years of Experience': 6,\n",
    "            'Currently Use': True\n",
    "        },\n",
    "        {\n",
    "            'Name': 'Javascript',\n",
    "            'Years of Experience': 4.5,\n",
    "            'Currently Use': False\n",
    "        }\n",
    "    ],\n",
    "    \"Pets\": None,\n",
    "    \"Class Teaching\":'EMSE6586'\n",
    "}\n",
    "\n",
    "#insert the new object into student_info database\n",
    "student_coll.insert_one(obj_by_olivia)\n",
    "\n",
    "#try to find any objects in student_info database that have the name set to \"Joel Klein\"\n",
    "docs = student_coll.find({'Name':'Joel Klein'})\n",
    "\n",
    "#print out the objects found with criteria above to make sure it worked\n",
    "for i in docs:\n",
    "    print(i)"
   ]
  },
  {
   "cell_type": "code",
   "execution_count": null,
   "metadata": {},
   "outputs": [],
   "source": []
  }
 ],
 "metadata": {
  "kernelspec": {
   "display_name": "Python 3",
   "language": "python",
   "name": "python3"
  },
  "language_info": {
   "codemirror_mode": {
    "name": "ipython",
    "version": 3
   },
   "file_extension": ".py",
   "mimetype": "text/x-python",
   "name": "python",
   "nbconvert_exporter": "python",
   "pygments_lexer": "ipython3",
   "version": "3.6.8"
  }
 },
 "nbformat": 4,
 "nbformat_minor": 2
}
