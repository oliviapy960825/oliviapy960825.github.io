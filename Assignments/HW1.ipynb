{
 "cells": [
  {
   "cell_type": "markdown",
   "metadata": {},
   "source": [
    "# 2. Python\n",
    "\n",
    "Python is the main programming language we'll use in this course.  We assume you have some experience with Python or can learn it yourself, but here is a brief review.\n",
    "\n",
    "Below are some simple Python code fragments.\n",
    "\n",
    "You should feel confident explaining what each fragment is doing. If not,\n",
    "please brush up on your Python. There a number of tutorials online (search\n",
    "for \"Python tutorial\"). https://docs.python.org/3/tutorial/ is a good place to\n",
    "start."
   ]
  },
  {
   "cell_type": "code",
   "execution_count": 64,
   "metadata": {
    "collapsed": true
   },
   "outputs": [],
   "source": [
    "2 + 2"
   ]
  },
  {
   "cell_type": "code",
   "execution_count": 65,
   "metadata": {
    "collapsed": true
   },
   "outputs": [],
   "source": [
    "# This is a comment.\n",
    "# In Python, the ** operator performs exponentiation.\n",
    "math.e**(-2)"
   ]
  },
  {
   "cell_type": "code",
   "execution_count": 66,
   "metadata": {
    "collapsed": true
   },
   "outputs": [],
   "source": [
    "print(\"Hello\" + \",\", \"world!\")\n",
    "\"Hello, cell output!\""
   ]
  },
  {
   "cell_type": "code",
   "execution_count": 67,
   "metadata": {
    "collapsed": true
   },
   "outputs": [],
   "source": [
    "def add2(x):\n",
    "    \"\"\"This docstring explains what this function does: it adds 2 to a number.\"\"\"\n",
    "    return x + 2"
   ]
  },
  {
   "cell_type": "code",
   "execution_count": 68,
   "metadata": {
    "collapsed": true
   },
   "outputs": [],
   "source": [
    "def makeAdder(amount):\n",
    "    \"\"\"Make a function that adds the given amount to a number.\"\"\"\n",
    "    def addAmount(x):\n",
    "        return x + amount\n",
    "    return addAmount\n",
    "\n",
    "add3 = makeAdder(3)\n",
    "add3(4)"
   ]
  },
  {
   "cell_type": "code",
   "execution_count": 69,
   "metadata": {
    "collapsed": true
   },
   "outputs": [],
   "source": [
    "# add4 is very similar to add2, but it's been created using a lambda expression.\n",
    "add4 = lambda x: x + 4\n",
    "add4(5)"
   ]
  },
  {
   "cell_type": "code",
   "execution_count": 11,
   "metadata": {
    "collapsed": true
   },
   "outputs": [],
   "source": [
    "sameAsMakeAdder = lambda amount: lambda x: x + amount\n",
    "add5 = sameAsMakeAdder(5)\n",
    "add5(6)"
   ]
  },
  {
   "cell_type": "code",
   "execution_count": 12,
   "metadata": {
    "collapsed": true
   },
   "outputs": [],
   "source": [
    "def fib(n):\n",
    "    if n <= 1:\n",
    "        return 1\n",
    "    # Functions can call themselves recursively.\n",
    "    return fib(n-1) + fib(n-2)\n",
    "\n",
    "fib(4)"
   ]
  },
  {
   "cell_type": "code",
   "execution_count": 13,
   "metadata": {
    "collapsed": true
   },
   "outputs": [],
   "source": [
    "# A for loop repeats a block of code once for each\n",
    "# element in a given collection.\n",
    "for i in range(5):\n",
    "    if i % 2 == 0:\n",
    "        print(2**i)\n",
    "    else:\n",
    "        print(\"Odd power of 2\")"
   ]
  },
  {
   "cell_type": "code",
   "execution_count": 14,
   "metadata": {
    "collapsed": true
   },
   "outputs": [],
   "source": [
    "# A list comprehension is a convenient way to apply a function\n",
    "# to each element in a given collection.\n",
    "# The String method join appends together all its arguments\n",
    "# separated by the given string.  So we append each element produced\n",
    "# by the list comprehension, each separated by a newline (\"\\n\").\n",
    "print(\"\\n\".join([str(2**i) if i % 2 == 0 else \"Odd power of 2\" for i in range(5)]))"
   ]
  },
  {
   "cell_type": "markdown",
   "metadata": {},
   "source": [
    "#### Question 1\n",
    "\n",
    "##### Question 1a\n",
    "Write a function nums_reversed that takes in an integer `n` and returns a string\n",
    "containing the numbers 1 through `n` including `n` in reverse order, separated\n",
    "by spaces. For example:\n",
    "\n",
    "    >>> nums_reversed(5)\n",
    "    '5 4 3 2 1'\n",
    "\n",
    "***Note:*** The ellipsis (`...`) indicates something you should fill in.  It *doesn't* necessarily imply you should replace it with only one line of code."
   ]
  },
  {
   "cell_type": "code",
   "execution_count": 1,
   "metadata": {},
   "outputs": [
    {
     "name": "stdout",
     "output_type": "stream",
     "text": [
      "5 4 3 2 1 \n"
     ]
    }
   ],
   "source": [
    "def nums_reversed(n):\n",
    "    string=''\n",
    "    while n>=1:\n",
    "        string=string+str(n)+' '\n",
    "        n=n-1\n",
    "        \n",
    "    print(string)\n",
    "nums_reversed(5)"
   ]
  },
  {
   "cell_type": "code",
   "execution_count": 10,
   "metadata": {
    "collapsed": true
   },
   "outputs": [],
   "source": [
    "_ = ok.grade('q01a')\n",
    "_ = ok.backup() #we can ignore this q right?"
   ]
  },
  {
   "cell_type": "markdown",
   "metadata": {},
   "source": [
    "##### Question 1b\n",
    "\n",
    "Write a function `string_splosion` that takes in a non-empty string like\n",
    "`\"Code\"` and returns a long string containing every prefix of the input.\n",
    "For example:\n",
    "\n",
    "    >>> string_splosion('Code')\n",
    "    'CCoCodCode'\n",
    "    >>> string_splosion('data!')\n",
    "    'ddadatdatadata!'\n",
    "    >>> string_splosion('hi')\n",
    "    'hhi'\n"
   ]
  },
  {
   "cell_type": "code",
   "execution_count": 5,
   "metadata": {
    "for_assignment_type": "student"
   },
   "outputs": [
    {
     "name": "stdout",
     "output_type": "stream",
     "text": [
      "CCoCodCode\n",
      "ddadatdatadata!\n",
      "hhi\n"
     ]
    }
   ],
   "source": [
    "\n",
    "def string_splosion(string):\n",
    "    final_string=''\n",
    "    n=0\n",
    "    \n",
    "    while n<=len(string):\n",
    "        final_string=final_string+string[0:n]\n",
    "        n=n+1\n",
    "    print(final_string)\n",
    "\n",
    "string_splosion('Code')\n",
    "string_splosion('data!')\n",
    "string_splosion('hi')"
   ]
  },
  {
   "cell_type": "code",
   "execution_count": 83,
   "metadata": {
    "collapsed": true
   },
   "outputs": [],
   "source": [
    "_ = ok.grade('q01b')\n",
    "_ = ok.backup()"
   ]
  },
  {
   "cell_type": "markdown",
   "metadata": {},
   "source": [
    "##### Question 1c\n",
    "\n",
    "Write a function `double100` that takes in a list of integers\n",
    "and returns `True` only if the list has two `100`s next to each other.\n",
    "\n",
    "    >>> double100([100, 2, 3, 100])\n",
    "    False\n",
    "    >>> double100([2, 3, 100, 100, 5])\n",
    "    True\n"
   ]
  },
  {
   "cell_type": "code",
   "execution_count": 5,
   "metadata": {
    "for_assignment_type": "student"
   },
   "outputs": [
    {
     "name": "stdout",
     "output_type": "stream",
     "text": [
      "False\n",
      "True\n"
     ]
    }
   ],
   "source": [
    "def double100(nums):\n",
    "    n=0\n",
    "    while n<len(nums):\n",
    "        if nums[n]==100:\n",
    "            if n+1<=len(nums)-1:\n",
    "                if nums[n+1]==100:\n",
    "                    return True\n",
    "        n=n+1\n",
    "                \n",
    "    return False      \n",
    "print(double100([100,2,3,100]))\n",
    "print(double100([2,3,100,100,5]))"
   ]
  },
  {
   "cell_type": "code",
   "execution_count": 84,
   "metadata": {
    "collapsed": true
   },
   "outputs": [],
   "source": [
    "_ = ok.grade('q01c')\n",
    "_ = ok.backup()"
   ]
  },
  {
   "cell_type": "markdown",
   "metadata": {},
   "source": [
    "##### Question 1d\n",
    "\n",
    "Write a function `median` that takes in a list of numbers\n",
    "and returns the median element of the list. If the list has even\n",
    "length, it returns the mean of the two elements in the middle.\n",
    "\n",
    "    >>> median([5, 4, 3, 2, 1])\n",
    "    3\n",
    "    >>> median([ 40, 30, 10, 20 ])\n",
    "    25"
   ]
  },
  {
   "cell_type": "code",
   "execution_count": 16,
   "metadata": {
    "for_assignment_type": "student"
   },
   "outputs": [
    {
     "name": "stdout",
     "output_type": "stream",
     "text": [
      "[1, 2, 3, 4, 5]\n",
      "3\n",
      "[10, 20, 30, 40]\n",
      "25.0\n"
     ]
    }
   ],
   "source": [
    "\n",
    "def median(number_list):\n",
    "    length=len(number_list)\n",
    "    n=0\n",
    "    while n<length:\n",
    "        m=n+1\n",
    "        while m<length:\n",
    "            if number_list[n]>number_list[m]:\n",
    "                med=number_list[n]\n",
    "                number_list[n]=number_list[m]\n",
    "                number_list[m]=med\n",
    "            m+=1\n",
    "        n+=1\n",
    "    print(number_list)\n",
    "    if length%2==1:\n",
    "        median=number_list[int(length/2)]\n",
    "    else:\n",
    "        median=(number_list[int(length/2)]+number_list[int(length/2)-1])/2\n",
    "    print(median)\n",
    "median([5, 4, 3, 2, 1])\n",
    "median([ 40, 30, 10, 20 ])"
   ]
  },
  {
   "cell_type": "code",
   "execution_count": 85,
   "metadata": {
    "collapsed": true
   },
   "outputs": [],
   "source": [
    "_ = ok.grade('q01d')\n",
    "_ = ok.backup()"
   ]
  },
  {
   "cell_type": "markdown",
   "metadata": {},
   "source": [
    "# 3. `NumPy`\n",
    "\n",
    "The `NumPy` library lets us do fast, simple computing with numbers in Python."
   ]
  },
  {
   "cell_type": "markdown",
   "metadata": {},
   "source": [
    "## 3.1. Arrays\n",
    "\n",
    "The basic `NumPy` data type is the array, a homogeneously-typed sequential collection (a list of things that all have the same type).  Arrays will most often contain strings, numbers, or other arrays."
   ]
  },
  {
   "cell_type": "markdown",
   "metadata": {},
   "source": [
    "Let's create some arrays:"
   ]
  },
  {
   "cell_type": "code",
   "execution_count": 17,
   "metadata": {},
   "outputs": [
    {
     "data": {
      "text/plain": [
       "(array([2, 3, 4, 5]), array([0, 1, 2, 3]))"
      ]
     },
     "execution_count": 17,
     "metadata": {},
     "output_type": "execute_result"
    }
   ],
   "source": [
    "import numpy as np\n",
    "array1 = np.array([2, 3, 4, 5])\n",
    "array2 = np.arange(4)\n",
    "array1, array2"
   ]
  },
  {
   "cell_type": "markdown",
   "metadata": {},
   "source": [
    "Math operations on arrays happen *element-wise*. Here's what we mean:"
   ]
  },
  {
   "cell_type": "code",
   "execution_count": 18,
   "metadata": {},
   "outputs": [
    {
     "data": {
      "text/plain": [
       "array([ 4,  6,  8, 10])"
      ]
     },
     "execution_count": 18,
     "metadata": {},
     "output_type": "execute_result"
    }
   ],
   "source": [
    "array1 * 2"
   ]
  },
  {
   "cell_type": "code",
   "execution_count": 19,
   "metadata": {},
   "outputs": [
    {
     "data": {
      "text/plain": [
       "array([ 0,  3,  8, 15])"
      ]
     },
     "execution_count": 19,
     "metadata": {},
     "output_type": "execute_result"
    }
   ],
   "source": [
    "array1 * array2"
   ]
  },
  {
   "cell_type": "code",
   "execution_count": 20,
   "metadata": {
    "scrolled": true
   },
   "outputs": [
    {
     "data": {
      "text/plain": [
       "array([  1,   3,  16, 125])"
      ]
     },
     "execution_count": 20,
     "metadata": {},
     "output_type": "execute_result"
    }
   ],
   "source": [
    "array1 ** array2 #** is like an exponential function, even for arrays"
   ]
  },
  {
   "cell_type": "markdown",
   "metadata": {},
   "source": [
    "This is not only very convenient (fewer `for` loops!) but also fast. `NumPy` is designed to run operations on arrays much faster than equivalent Python code on lists. Data science sometimes involves working with large datasets where speed is important - even the constant factors!"
   ]
  },
  {
   "cell_type": "markdown",
   "metadata": {},
   "source": [
    "**Jupyter pro-tip**: Pull up the docs for any function in Jupyter by running a cell with\n",
    "the function name and a `?` at the end:"
   ]
  },
  {
   "cell_type": "code",
   "execution_count": 27,
   "metadata": {
    "collapsed": true
   },
   "outputs": [],
   "source": [
    "np.arange?"
   ]
  },
  {
   "cell_type": "markdown",
   "metadata": {},
   "source": [
    "**Another Jupyter pro-tip**: Pull up the docs for any function in Jupyter by typing the function\n",
    "name, then `<Shift>-<Tab>` on your keyboard. Super convenient when you forget the order\n",
    "of the arguments to a function. You can press `<Tab>` multiple tabs to expand the docs.\n",
    "\n",
    "Try it on the function below:"
   ]
  },
  {
   "cell_type": "code",
   "execution_count": 24,
   "metadata": {
    "scrolled": true
   },
   "outputs": [
    {
     "data": {
      "text/plain": [
       "<function numpy.core.function_base.linspace>"
      ]
     },
     "execution_count": 24,
     "metadata": {},
     "output_type": "execute_result"
    }
   ],
   "source": [
    "np.linspace"
   ]
  },
  {
   "cell_type": "markdown",
   "metadata": {},
   "source": [
    "#### Question 2\n",
    "Using the `np.linspace` function, create an array called `xs` that contains\n",
    "100 evenly spaced points between `0` and `2 * np.pi`. Then, create an array called `ys` that\n",
    "contains the value of $ \\sin{x} $ at each of those 100 points.\n",
    "\n",
    "*Hint:* Use the `np.sin` function. You should be able to define each variable with one line of code.)"
   ]
  },
  {
   "cell_type": "code",
   "execution_count": 26,
   "metadata": {},
   "outputs": [
    {
     "name": "stdout",
     "output_type": "stream",
     "text": [
      "[ 0.          0.06346652  0.12693304  0.19039955  0.25386607  0.31733259\n",
      "  0.38079911  0.44426563  0.50773215  0.57119866  0.63466518  0.6981317\n",
      "  0.76159822  0.82506474  0.88853126  0.95199777  1.01546429  1.07893081\n",
      "  1.14239733  1.20586385  1.26933037  1.33279688  1.3962634   1.45972992\n",
      "  1.52319644  1.58666296  1.65012947  1.71359599  1.77706251  1.84052903\n",
      "  1.90399555  1.96746207  2.03092858  2.0943951   2.15786162  2.22132814\n",
      "  2.28479466  2.34826118  2.41172769  2.47519421  2.53866073  2.60212725\n",
      "  2.66559377  2.72906028  2.7925268   2.85599332  2.91945984  2.98292636\n",
      "  3.04639288  3.10985939  3.17332591  3.23679243  3.30025895  3.36372547\n",
      "  3.42719199  3.4906585   3.55412502  3.61759154  3.68105806  3.74452458\n",
      "  3.8079911   3.87145761  3.93492413  3.99839065  4.06185717  4.12532369\n",
      "  4.1887902   4.25225672  4.31572324  4.37918976  4.44265628  4.5061228\n",
      "  4.56958931  4.63305583  4.69652235  4.75998887  4.82345539  4.88692191\n",
      "  4.95038842  5.01385494  5.07732146  5.14078798  5.2042545   5.26772102\n",
      "  5.33118753  5.39465405  5.45812057  5.52158709  5.58505361  5.64852012\n",
      "  5.71198664  5.77545316  5.83891968  5.9023862   5.96585272  6.02931923\n",
      "  6.09278575  6.15625227  6.21971879  6.28318531]\n",
      "[  0.00000000e+00   6.34239197e-02   1.26592454e-01   1.89251244e-01\n",
      "   2.51147987e-01   3.12033446e-01   3.71662456e-01   4.29794912e-01\n",
      "   4.86196736e-01   5.40640817e-01   5.92907929e-01   6.42787610e-01\n",
      "   6.90079011e-01   7.34591709e-01   7.76146464e-01   8.14575952e-01\n",
      "   8.49725430e-01   8.81453363e-01   9.09631995e-01   9.34147860e-01\n",
      "   9.54902241e-01   9.71811568e-01   9.84807753e-01   9.93838464e-01\n",
      "   9.98867339e-01   9.99874128e-01   9.96854776e-01   9.89821442e-01\n",
      "   9.78802446e-01   9.63842159e-01   9.45000819e-01   9.22354294e-01\n",
      "   8.95993774e-01   8.66025404e-01   8.32569855e-01   7.95761841e-01\n",
      "   7.55749574e-01   7.12694171e-01   6.66769001e-01   6.18158986e-01\n",
      "   5.67059864e-01   5.13677392e-01   4.58226522e-01   4.00930535e-01\n",
      "   3.42020143e-01   2.81732557e-01   2.20310533e-01   1.58001396e-01\n",
      "   9.50560433e-02   3.17279335e-02  -3.17279335e-02  -9.50560433e-02\n",
      "  -1.58001396e-01  -2.20310533e-01  -2.81732557e-01  -3.42020143e-01\n",
      "  -4.00930535e-01  -4.58226522e-01  -5.13677392e-01  -5.67059864e-01\n",
      "  -6.18158986e-01  -6.66769001e-01  -7.12694171e-01  -7.55749574e-01\n",
      "  -7.95761841e-01  -8.32569855e-01  -8.66025404e-01  -8.95993774e-01\n",
      "  -9.22354294e-01  -9.45000819e-01  -9.63842159e-01  -9.78802446e-01\n",
      "  -9.89821442e-01  -9.96854776e-01  -9.99874128e-01  -9.98867339e-01\n",
      "  -9.93838464e-01  -9.84807753e-01  -9.71811568e-01  -9.54902241e-01\n",
      "  -9.34147860e-01  -9.09631995e-01  -8.81453363e-01  -8.49725430e-01\n",
      "  -8.14575952e-01  -7.76146464e-01  -7.34591709e-01  -6.90079011e-01\n",
      "  -6.42787610e-01  -5.92907929e-01  -5.40640817e-01  -4.86196736e-01\n",
      "  -4.29794912e-01  -3.71662456e-01  -3.12033446e-01  -2.51147987e-01\n",
      "  -1.89251244e-01  -1.26592454e-01  -6.34239197e-02  -2.44929360e-16]\n"
     ]
    }
   ],
   "source": [
    "import numpy as np\n",
    "xs = np.linspace(0,2*np.pi,100)\n",
    "print(xs)\n",
    "ys = np.sin(xs)\n",
    "print(ys)"
   ]
  },
  {
   "cell_type": "code",
   "execution_count": 86,
   "metadata": {
    "collapsed": true
   },
   "outputs": [],
   "source": [
    "_ = ok.grade('q02')\n",
    "_ = ok.backup()"
   ]
  },
  {
   "cell_type": "markdown",
   "metadata": {},
   "source": [
    "The `plt.plot` function from another library called `matplotlib` lets us make plots. It takes in\n",
    "an array of x-values and a corresponding array of y-values.  It makes a scatter plot of the (x, y) pairs and connects points with line segments.  If you give it enough points, it will appear to create a smooth curve.\n",
    "\n",
    "Let's plot the points you calculated in the previous question:"
   ]
  },
  {
   "cell_type": "markdown",
   "metadata": {},
   "source": [
    "This is a useful recipe for plotting any function:\n",
    "1. Use `linspace` or `arange` to make a range of x-values.\n",
    "2. Apply the function to each point to produce y-values.\n",
    "3. Plot the points."
   ]
  },
  {
   "cell_type": "code",
   "execution_count": 27,
   "metadata": {},
   "outputs": [
    {
     "data": {
      "image/png": "[encoded data removed]",
      "text/plain": [
       "<matplotlib.figure.Figure at 0x10e431c88>"
      ]
     },
     "metadata": {},
     "output_type": "display_data"
    }
   ],
   "source": [
    "import matplotlib.pyplot as plt\n",
    "plt.plot(xs, ys)\n",
    "plt.show()"
   ]
  },
  {
   "cell_type": "markdown",
   "metadata": {},
   "source": [
    "You might remember from calculus that the derivative of the `sin` function is the `cos` function.  That means that the slope of the curve you plotted above at any point `xs[i]` is given by `cos(xs[i])`.  You can try verifying this by plotting `cos` in the next cell."
   ]
  },
  {
   "cell_type": "code",
   "execution_count": 28,
   "metadata": {},
   "outputs": [
    {
     "name": "stdout",
     "output_type": "stream",
     "text": [
      "[ 1.          0.99798668  0.99195481  0.9819287   0.9679487   0.95007112\n",
      "  0.92836793  0.90292654  0.87384938  0.84125353  0.80527026  0.76604444\n",
      "  0.72373404  0.67850941  0.63055267  0.58005691  0.52722547  0.47227107\n",
      "  0.41541501  0.35688622  0.29692038  0.23575894  0.17364818  0.1108382\n",
      "  0.04758192 -0.01586596 -0.07924996 -0.14231484 -0.20480667 -0.26647381\n",
      " -0.32706796 -0.38634513 -0.44406661 -0.5        -0.55392006 -0.60560969\n",
      " -0.65486073 -0.70147489 -0.74526445 -0.78605309 -0.82367658 -0.85798341\n",
      " -0.88883545 -0.91610846 -0.93969262 -0.95949297 -0.97542979 -0.98743889\n",
      " -0.99547192 -0.99949654 -0.99949654 -0.99547192 -0.98743889 -0.97542979\n",
      " -0.95949297 -0.93969262 -0.91610846 -0.88883545 -0.85798341 -0.82367658\n",
      " -0.78605309 -0.74526445 -0.70147489 -0.65486073 -0.60560969 -0.55392006\n",
      " -0.5        -0.44406661 -0.38634513 -0.32706796 -0.26647381 -0.20480667\n",
      " -0.14231484 -0.07924996 -0.01586596  0.04758192  0.1108382   0.17364818\n",
      "  0.23575894  0.29692038  0.35688622  0.41541501  0.47227107  0.52722547\n",
      "  0.58005691  0.63055267  0.67850941  0.72373404  0.76604444  0.80527026\n",
      "  0.84125353  0.87384938  0.90292654  0.92836793  0.95007112  0.9679487\n",
      "  0.9819287   0.99195481  0.99798668  1.        ]\n"
     ]
    },
    {
     "data": {
      "image/png": "[encoded data removed]",
      "text/plain": [
       "<matplotlib.figure.Figure at 0x10ae4fda0>"
      ]
     },
     "metadata": {},
     "output_type": "display_data"
    }
   ],
   "source": [
    "# Try plotting cos here.\n",
    "ys2=np.cos(xs)\n",
    "print(ys2)\n",
    "plt.plot(xs,ys2)\n",
    "plt.show()"
   ]
  },
  {
   "cell_type": "markdown",
   "metadata": {},
   "source": [
    "Calculating derivatives is an important operation in data science, but it can be difficult.  We can have computers do it for us using a simple idea called *numerical differentiation*.\n",
    "\n",
    "Consider the `i`th point `(xs[i], ys[i])`.  The slope of `sin` at `xs[i]` is roughly the slope of the line connecting `(xs[i], ys[i])` to the nearby point `(xs[i+1], ys[i+1])`.  That slope is:\n",
    "\n",
    "    (ys[i+1] - ys[i]) / (xs[i+1] - xs[i])\n",
    "\n",
    "If the difference between `xs[i+1]` and `xs[i]` were infinitessimal, we'd have exactly the derivative.  In numerical differentiation we take advantage of the fact that it's often good enough to use \"really small\" differences instead."
   ]
  },
  {
   "cell_type": "markdown",
   "metadata": {},
   "source": [
    "#### Question 3\n",
    "\n",
    "Define a function called `derivative` that takes in an array of x-values and their\n",
    "corresponding y-values and computes the slope of the line connecting each point to the next point.\n",
    "\n",
    "    >>> derivative(np.array([0, 1, 2]), np.array([2, 4, 6]))\n",
    "    np.array([2., 2.])\n",
    "    >>> derivative(np.arange(5), np.arange(5) ** 2)\n",
    "    np.array([0., 2., 4., 6.])\n",
    "\n",
    "Notice that the output array has one less element than the inputs since we can't\n",
    "find the slope for the last point.\n",
    "\n",
    "It's possible to do this in one short line using [slicing](http://pythoncentral.io/how-to-slice-listsarrays-and-tuples-in-python/), but feel free to use whatever method you know.\n",
    "\n",
    "**Then**, use your `derivative` function to compute the slopes for each point in `xs`, `ys`.\n",
    "Store the slopes in an array called `slopes`."
   ]
  },
  {
   "cell_type": "code",
   "execution_count": 29,
   "metadata": {},
   "outputs": [
    {
     "name": "stdout",
     "output_type": "stream",
     "text": [
      "[0.99932880203694108, 0.99530485765801202, 0.9872731719039417, 0.97526608553852867, 0.95933194686073808, 0.93953491702317515, 0.91595471167775178, 0.88868627998891114, 0.85783942230683929, 0.82353834804021753, 0.78592117550876595, 0.74513937578952283, 0.70135716279627358, 0.6547508320480836, 0.60550805078946424, 0.55382710232060772, 0.49991608758053191, 0.44399208719803479, 0.38628028738463643, 0.3270130731891554, 0.26642909276517113, 0.20477229641910932, 0.14229095430847377, 0.079236656745543074, 0.01586330113198341, -0.047573930396382642, -0.11081959849796592, -0.17361903518948066, -0.23571936930404808, -0.29687054471410823, -0.35682632721921431, -0.41534529604423687, -0.47219181595562332, -0.52713698608131754, -0.57995956161377571, -0.63044684468472612, -0.67839554082442022, -0.7236125775566935, -0.76591588183369264, -0.80513511317978603, -0.84111234959252812, -0.87370272343882316, -0.90277500478576123, -0.92821212981723944, -0.94991167220863193, -0.96778625556144415, -0.98176390523724077, -0.9917883381740985, -0.9978191895186439, -0.99983217516106249, -0.9978191895186439, -0.99178833817409895, -0.98176390523724066, -0.96778625556144438, -0.9499116722086316, -0.92821212981723999, -0.90277500478576045, -0.87370272343882227, -0.84111234959252879, -0.80513511317978737, -0.76591588183369275, -0.72361257755669017, -0.67839554082442155, -0.63044684468472689, -0.57995956161377626, -0.52713698608131543, -0.47219181595562487, -0.41534529604423659, -0.35682632721921381, -0.29687054471410862, -0.23571936930404716, -0.17361903518948127, -0.11081959849796456, -0.047573930396383898, 0.015863301131983466, 0.079236656745543629, 0.14229095430847252, 0.20477229641910891, 0.26642909276517207, 0.32701307318915657, 0.3862802873846341, 0.44399208719803634, 0.49991608758053191, 0.55382710232060617, 0.6055080507894649, 0.65475083204808593, 0.70135716279627258, 0.7451393757895215, 0.78592117550876639, 0.82353834804021864, 0.85783942230683974, 0.8886862799889107, 0.91595471167775178, 0.93953491702317404, 0.95933194686073975, 0.97526608553852767, 0.9872731719039417, 0.99530485765801202, 0.99932880203694108]\n"
     ]
    }
   ],
   "source": [
    "import numpy as np\n",
    "def derivative(xvals, yvals):\n",
    "    slope=[]\n",
    "    length=len(yvals)\n",
    "    i=0\n",
    "    while i<length-1:\n",
    "        if (xvals[i+1]-xvals[i])==0:\n",
    "            slope.append(0)\n",
    "        else:\n",
    "            slope.append((yvals[i+1]-yvals[i])/(xvals[i+1]-xvals[i]))\n",
    "        i+=1\n",
    "    return slope\n",
    "\n",
    "#slopes = derivative(np.array([0, 1, 2]), np.array([2, 4, 6]))\n",
    "slopes=derivative(xs,ys)\n",
    "slopes[:5]\n",
    "print(slopes)\n",
    "#slopes=derivative(np.arange(5), np.arange(5) ** 2)\n",
    "#slopes[:5]"
   ]
  },
  {
   "cell_type": "code",
   "execution_count": 87,
   "metadata": {
    "collapsed": true
   },
   "outputs": [],
   "source": [
    "_ = ok.grade('q03')\n",
    "_ = ok.backup()"
   ]
  },
  {
   "cell_type": "markdown",
   "metadata": {},
   "source": [
    "#### Question 4\n",
    "Plot the slopes you computed.  Then plot `cos` on top of your plot, calling `plt.plot` again in the same cell.  Did numerical differentiation work?\n",
    "\n",
    "*Note:* Since we have only 99 slopes, you'll need to take off the last x-value before plotting to avoid an error."
   ]
  },
  {
   "cell_type": "code",
   "execution_count": 30,
   "metadata": {},
   "outputs": [
    {
     "data": {
      "image/png": "[encoded data removed]",
      "text/plain": [
       "<matplotlib.figure.Figure at 0x10e1b49b0>"
      ]
     },
     "metadata": {},
     "output_type": "display_data"
    }
   ],
   "source": [
    "import matplotlib.pyplot as plt\n",
    "plt.plot(xs[:-1],slopes)\n",
    "plt.plot(xs[:-1],np.cos(xs[:-1]))\n",
    "plt.plot()\n",
    "plt.show()"
   ]
  },
  {
   "cell_type": "markdown",
   "metadata": {},
   "source": [
    "In the plot above, it's probably not clear which curve is which.  Examine the cell below to see how to plot your results with a legend."
   ]
  },
  {
   "cell_type": "code",
   "execution_count": 31,
   "metadata": {},
   "outputs": [
    {
     "data": {
      "image/png": "[encoded data removed]",
      "text/plain": [
       "<matplotlib.figure.Figure at 0x10e13bcf8>"
      ]
     },
     "metadata": {},
     "output_type": "display_data"
    }
   ],
   "source": [
    "plt.plot(xs[:-1], slopes, label=\"Numerical derivative\")\n",
    "plt.plot(xs[:-1], np.cos(xs[:-1]), label=\"True derivative\")\n",
    "# You can just call plt.legend(), but the legend will cover up\n",
    "# some of the graph.  Use bbox_to_anchor=(x,y) to set the x-\n",
    "# and y-coordinates of the center-left point of the legend,\n",
    "# where, for example, (0, 0) is the bottom-left of the graph\n",
    "# and (1, .5) is all the way to the right and halfway up.\n",
    "plt.legend(bbox_to_anchor=(1, .5), loc=\"center left\");\n",
    "plt.show()"
   ]
  },
  {
   "cell_type": "markdown",
   "metadata": {},
   "source": [
    "## 3.2. Multidimensional Arrays\n",
    "A multidimensional array is a primitive version of a table, containing only one kind of data and having no column labels.  A 2-dimensional array is useful for working with *matrices* of numbers."
   ]
  },
  {
   "cell_type": "code",
   "execution_count": 32,
   "metadata": {},
   "outputs": [
    {
     "data": {
      "text/plain": [
       "array([[ 0.,  0.,  0.,  0.,  0.],\n",
       "       [ 0.,  0.,  0.,  0.,  0.],\n",
       "       [ 0.,  0.,  0.,  0.,  0.],\n",
       "       [ 0.,  0.,  0.,  0.,  0.]])"
      ]
     },
     "execution_count": 32,
     "metadata": {},
     "output_type": "execute_result"
    }
   ],
   "source": [
    "# The zeros function creates an array with the given shape.\n",
    "# For a 2-dimensional array like this one, the first\n",
    "# coordinate says how far the array goes *down*, and the\n",
    "# second says how far it goes *right*.\n",
    "array3 = np.zeros((4, 5))\n",
    "array3"
   ]
  },
  {
   "cell_type": "code",
   "execution_count": 33,
   "metadata": {},
   "outputs": [
    {
     "data": {
      "text/plain": [
       "(4, 5)"
      ]
     },
     "execution_count": 33,
     "metadata": {},
     "output_type": "execute_result"
    }
   ],
   "source": [
    "# The shape attribute returns the dimensions of the array.\n",
    "array3.shape"
   ]
  },
  {
   "cell_type": "code",
   "execution_count": 34,
   "metadata": {},
   "outputs": [
    {
     "data": {
      "text/plain": [
       "array([[ 0.,  0.,  0.,  0.,  0.],\n",
       "       [ 0.,  0.,  7.,  0.,  0.],\n",
       "       [ 0.,  0.,  0.,  0.,  0.],\n",
       "       [ 0.,  0.,  0.,  0.,  0.]])"
      ]
     },
     "execution_count": 34,
     "metadata": {},
     "output_type": "execute_result"
    }
   ],
   "source": [
    "# You can think of array3 as an array containing 4 arrays, each\n",
    "# containing 5 zeros.  Accordingly, we can set or get the third\n",
    "# element of the second array in array 3 using standard Python\n",
    "# array indexing syntax twice:\n",
    "array3[1][2] = 7\n",
    "array3"
   ]
  },
  {
   "cell_type": "code",
   "execution_count": 35,
   "metadata": {},
   "outputs": [
    {
     "data": {
      "text/plain": [
       "array([[ 0.,  0.,  0.,  0.,  0.],\n",
       "       [ 0.,  0.,  8.,  0.,  0.],\n",
       "       [ 0.,  0.,  0.,  0.,  0.],\n",
       "       [ 0.,  0.,  0.,  0.,  0.]])"
      ]
     },
     "execution_count": 35,
     "metadata": {},
     "output_type": "execute_result"
    }
   ],
   "source": [
    "# This comes up so often that there is special syntax provided\n",
    "# for it.  The comma syntax is equivalent to using multiple\n",
    "# brackets:\n",
    "array3[1, 2] = 8\n",
    "array3"
   ]
  },
  {
   "cell_type": "markdown",
   "metadata": {},
   "source": [
    "Arrays allow you to assign to multiple places at once.  The special character `:` means \"everything.\""
   ]
  },
  {
   "cell_type": "code",
   "execution_count": 36,
   "metadata": {},
   "outputs": [
    {
     "data": {
      "text/plain": [
       "array([[ 0.,  0.,  5.,  0.,  0.],\n",
       "       [ 0.,  0.,  5.,  0.,  0.],\n",
       "       [ 0.,  0.,  5.,  0.,  0.]])"
      ]
     },
     "execution_count": 36,
     "metadata": {},
     "output_type": "execute_result"
    }
   ],
   "source": [
    "array4 = np.zeros((3, 5))\n",
    "array4[:, 2] = 5\n",
    "array4"
   ]
  },
  {
   "cell_type": "markdown",
   "metadata": {},
   "source": [
    "In fact, you can use arrays of indices to assign to multiple places.  Study the next example and make sure you understand how it works."
   ]
  },
  {
   "cell_type": "code",
   "execution_count": 37,
   "metadata": {},
   "outputs": [
    {
     "data": {
      "text/plain": [
       "array([[ 0.,  3.,  0.,  0.,  0.],\n",
       "       [ 0.,  0.,  0.,  3.,  0.],\n",
       "       [ 0.,  0.,  0.,  0.,  3.]])"
      ]
     },
     "execution_count": 37,
     "metadata": {},
     "output_type": "execute_result"
    }
   ],
   "source": [
    "array5 = np.zeros((3, 5))\n",
    "rows = np.array([1, 0, 2])\n",
    "cols = np.array([3, 1, 4])\n",
    "\n",
    "# Indices (1,3), (0,1), and (2,4) will be set.\n",
    "array5[rows, cols] = 3\n",
    "array5"
   ]
  },
  {
   "cell_type": "markdown",
   "metadata": {},
   "source": [
    "#### Question 5\n",
    "Create a 50x50 array called `twice_identity` that contains all zeros except on the\n",
    "diagonal, where it contains the value `2`.\n",
    "\n",
    "Start by making a 50x50 array of all zeros, then set the values.  Use indexing, not a `for` loop!  (Don't use `np.eye` either, though you might find that function useful later.)"
   ]
  },
  {
   "cell_type": "code",
   "execution_count": 54,
   "metadata": {
    "for_assignment_type": "student"
   },
   "outputs": [
    {
     "name": "stdout",
     "output_type": "stream",
     "text": [
      "[0, 1, 2, 3, 4, 5, 6, 7, 8, 9, 10, 11, 12, 13, 14, 15, 16, 17, 18, 19, 20, 21, 22, 23, 24, 25, 26, 27, 28, 29, 30, 31, 32, 33, 34, 35, 36, 37, 38, 39, 40, 41, 42, 43, 44, 45, 46, 47, 48, 49]\n",
      "[49, 48, 47, 46, 45, 44, 43, 42, 41, 40, 39, 38, 37, 36, 35, 34, 33, 32, 31, 30, 29, 28, 27, 26, 25, 24, 23, 22, 21, 20, 19, 18, 17, 16, 15, 14, 13, 12, 11, 10, 9, 8, 7, 6, 5, 4, 3, 2, 1, 0]\n"
     ]
    },
    {
     "data": {
      "text/plain": [
       "array([[ 2.,  0.,  0., ...,  0.,  0.,  2.],\n",
       "       [ 0.,  2.,  0., ...,  0.,  2.,  0.],\n",
       "       [ 0.,  0.,  2., ...,  2.,  0.,  0.],\n",
       "       ..., \n",
       "       [ 0.,  0.,  2., ...,  2.,  0.,  0.],\n",
       "       [ 0.,  2.,  0., ...,  0.,  2.,  0.],\n",
       "       [ 2.,  0.,  0., ...,  0.,  0.,  2.]])"
      ]
     },
     "execution_count": 54,
     "metadata": {},
     "output_type": "execute_result"
    }
   ],
   "source": [
    "import numpy as np\n",
    "twice_identity = np.zeros((50,50))\n",
    "rows=list(range(50))\n",
    "#print(rows)\n",
    "cols=rows\n",
    "cols2=[]\n",
    "for ele in rows:\n",
    "    cols2.append(49-ele)\n",
    "#print(cols2)\n",
    "twice_identity[rows,cols]=2\n",
    "twice_identity[rows,cols2]=2\n",
    "twice_identity"
   ]
  },
  {
   "cell_type": "code",
   "execution_count": 88,
   "metadata": {
    "collapsed": true
   },
   "outputs": [],
   "source": [
    "_ = ok.grade('q05')\n",
    "_ = ok.backup()"
   ]
  },
  {
   "cell_type": "markdown",
   "metadata": {},
   "source": [
    "# 4. A Picture Puzzle"
   ]
  },
  {
   "cell_type": "markdown",
   "metadata": {},
   "source": [
    "Your boss has given you some strange text files. He says they're images,\n",
    "some of which depict a summer scene and the rest a winter scene.\n",
    "\n",
    "He demands that you figure out how to determine whether a given\n",
    "text file represents a summer scene or a winter scene.\n",
    "\n",
    "You receive 10 files, `1.txt` through `10.txt`. Peek at the files in a text\n",
    "editor of your choice."
   ]
  },
  {
   "cell_type": "markdown",
   "metadata": {},
   "source": [
    "#### Question 6\n",
    "How do you think the contents of the file are structured? Take your best guess."
   ]
  },
  {
   "cell_type": "code",
   "execution_count": null,
   "metadata": {
    "collapsed": true
   },
   "outputs": [],
   "source": [
    "The pixel values of the image are extracted and stored in the text file"
   ]
  },
  {
   "cell_type": "markdown",
   "metadata": {},
   "source": [
    "*Write your answer here, replacing this text.*"
   ]
  },
  {
   "cell_type": "markdown",
   "metadata": {},
   "source": [
    "#### Question 7\n",
    "Create a function called `read_file_lines` that takes in a filename as its argument.\n",
    "This function should return a Python list containing the lines of the\n",
    "file as strings. That is, if `1.txt` contains:\n",
    "\n",
    "```\n",
    "1 2 3\n",
    "3 4 5\n",
    "7 8 9\n",
    "```\n",
    "\n",
    "the return value should be: `['1 2 3\\n', '3 4 5\\n', '7 8 9\\n']`.\n",
    "\n",
    "**Then**, use the `read_file_lines` function on the file `1.txt`, reading the contents\n",
    "into a variable called `file1`.\n",
    "\n",
    "*Hint:* Check out [this Stack Overflow page](http://stackoverflow.com/questions/3277503/how-to-read-a-file-line-by-line-into-a-list-with-python) on reading lines of files."
   ]
  },
  {
   "cell_type": "code",
   "execution_count": 81,
   "metadata": {},
   "outputs": [
    {
     "name": "stdout",
     "output_type": "stream",
     "text": [
      "2\n"
     ]
    },
    {
     "data": {
      "text/plain": [
       "['240 215\\n', '0 0 0\\n', '0 0 1\\n', '0 1 1\\n', '0 1 2\\n']"
      ]
     },
     "execution_count": 81,
     "metadata": {},
     "output_type": "execute_result"
    }
   ],
   "source": [
    "def read_file_lines(filename):\n",
    "    with open(filename) as f:\n",
    "        lines = f.readlines()\n",
    "        #lines=f.read().split(\"\\n\")\n",
    "        return lines\n",
    "file1 = read_file_lines(\"1.txt\")\n",
    "ele=file1[0]\n",
    "file1[:5]"
   ]
  },
  {
   "cell_type": "code",
   "execution_count": 7,
   "metadata": {
    "collapsed": true
   },
   "outputs": [],
   "source": [
    "_ = ok.grade('q07')\n",
    "_ = ok.backup()"
   ]
  },
  {
   "cell_type": "markdown",
   "metadata": {},
   "source": [
    "Each file begins with a line containing two numbers.  After checking the length of\n",
    "a file, you could notice that the product of these two numbers equals the number of\n",
    "lines in each file (other than the first one).\n",
    "\n",
    "This suggests the rows represent elements in a 2-dimensional grid.  In fact, each\n",
    "dataset represents an image!\n",
    "\n",
    "On the first line, the first of the two numbers is\n",
    "the height of the image (in pixels) and the second is the width (again in pixels).\n",
    "\n",
    "Each line in the rest of the file contains the pixels of the image.\n",
    "Each pixel is a triplet of numbers denoting how much red, green, and blue\n",
    "the pixel contains, respectively.\n",
    "\n",
    "In image processing, each column in one of these image files is called a *channel*\n",
    "(disregarding line 1).  So there are 3 channels: red, green, and blue.\n",
    "\n",
    "#### Question 8\n",
    "Define a function called `lines_to_image` that takes in the contents of a\n",
    "file as a list (such as `file1`). It should return an array containing integers of\n",
    "shape `(n_rows, n_cols, 3)`. That is, it contains the pixel triplets organized in the\n",
    "correct number of rows and columns.\n",
    "\n",
    "For example, if the file originally contained:\n",
    "\n",
    "```\n",
    "4 2\n",
    "0 0 0\n",
    "10 10 10\n",
    "2 2 2\n",
    "3 3 3\n",
    "4 4 4\n",
    "5 5 5\n",
    "6 6 6\n",
    "7 7 7\n",
    "```\n",
    "\n",
    "The resulting array should be a *3-dimensional* array that looks like this:\n",
    "\n",
    "```\n",
    "array([\n",
    "    [ [0,0,0], [10,10,10] ],\n",
    "    [ [2,2,2], [3,3,3] ],\n",
    "    [ [4,4,4], [5,5,5] ],\n",
    "    [ [6,6,6], [7,7,7] ]\n",
    "])\n",
    "```\n",
    "\n",
    "The string method `split` and the function `np.reshape` might be useful.\n",
    "\n",
    "**Important note:** You must call `.astype(np.uint8)` on the final array before\n",
    "returning so that `numpy` will recognize the array represents an image.\n",
    "\n",
    "Once you've defined the function, set `image1` to the result of calling\n",
    "`lines_to_image` on `file1`."
   ]
  },
  {
   "cell_type": "code",
   "execution_count": null,
   "metadata": {
    "collapsed": true,
    "for_assignment_type": "student"
   },
   "outputs": [],
   "source": [
    "def lines_to_image(file_lines):\n",
    "    with open(filename) as f:\n",
    "         lines=f.read().split(\"\\n\")\n",
    "            for ele in lines:\n",
    "                if ele[3]==None:\n",
    "    image_array =\n",
    "    # Make sure to call astype like this on the 3-dimensional array\n",
    "    # you produce, before returning it.\n",
    "    return image_array.astype(np.uint8)\n",
    "\n",
    "image1 = ...\n",
    "image1.shape"
   ]
  },
  {
   "cell_type": "code",
   "execution_count": 105,
   "metadata": {
    "collapsed": true
   },
   "outputs": [],
   "source": [
    "_ = ok.grade('q08')\n",
    "_ = ok.backup()"
   ]
  },
  {
   "cell_type": "markdown",
   "metadata": {},
   "source": [
    "#### Question 9\n",
    "\n",
    "Images in `numpy` are simply arrays, but we can also display them them as\n",
    "actual images in this notebook.\n",
    "\n",
    "Use the provided `show_images` function to display `image1`. You may call it\n",
    "like `show_images(image1)`. If you later have multiple images to display, you\n",
    "can call `show_images([image1, image2])` to display them all at once.\n",
    "\n",
    "The resulting image should look almost completely black. Why do you suppose\n",
    "that is?"
   ]
  },
  {
   "cell_type": "code",
   "execution_count": 4,
   "metadata": {
    "collapsed": true
   },
   "outputs": [],
   "source": [
    "def show_images(images, ncols=2, figsize=(10, 7), **kwargs):\n",
    "    \"\"\"\n",
    "    Shows one or more color images.\n",
    "    \n",
    "    images: Image or list of images.  Each image is a 3-dimensional\n",
    "            array, where dimension 1 indexes height and dimension 2\n",
    "            the width.  Dimension 3 indexes the 3 color values red,\n",
    "            blue, and green (so it always has length 3).\n",
    "    \"\"\"\n",
    "    def show_image(image, axis=plt):\n",
    "        plt.imshow(image, **kwargs)\n",
    "        \n",
    "    if not (isinstance(images, list) or isinstance(images, tuple)):\n",
    "        images = [images]\n",
    "    images = [image.astype(np.uint8) for image in images]\n",
    "    \n",
    "    nrows = math.ceil(len(images) / ncols)\n",
    "    ncols = min(len(images), ncols)\n",
    "    \n",
    "    plt.figure(figsize=figsize)\n",
    "    for i, image in enumerate(images):\n",
    "        axis = plt.subplot2grid(\n",
    "            (nrows, ncols),\n",
    "            (i // ncols,  i % ncols),\n",
    "        )\n",
    "        axis.tick_params(bottom='off', left='off', top='off', right='off',\n",
    "                         labelleft='off', labelbottom='off')\n",
    "        axis.grid(False)\n",
    "        show_image(image, axis)"
   ]
  },
  {
   "cell_type": "code",
   "execution_count": 8,
   "metadata": {
    "collapsed": true
   },
   "outputs": [],
   "source": [
    "# Show image1 here:\n",
    "..."
   ]
  },
  {
   "cell_type": "markdown",
   "metadata": {},
   "source": [
    "#### Question 10\n",
    "\n",
    "If you look at the data, you'll notice all the numbers lie between 0 and 10.\n",
    "In `NumPy`, a color intensity is an integer ranging from 0 to 255, where 0 is\n",
    "no color (black).  That's why the image is almost black.  To see the image,\n",
    "we'll need to rescale the numbers in the data to have a larger range.\n",
    "\n",
    "Define a function `expand_image_range` that takes in an image. It returns a\n",
    "**new copy** of the image with the following transformation:\n",
    "    \n",
    "    old value | new value\n",
    "    ========= | =========\n",
    "    0         | 12\n",
    "    1         | 37\n",
    "    2         | 65\n",
    "    3         | 89\n",
    "    4         | 114\n",
    "    5         | 137\n",
    "    6         | 162\n",
    "    7         | 187\n",
    "    8         | 214\n",
    "    9         | 240\n",
    "    10        | 250\n",
    "\n",
    "This expands the color range of the image. For example, a pixel that previously\n",
    "had the value `[5 5 5]` (almost-black) will now have the value `[137 137 137]`\n",
    "(gray).\n",
    "\n",
    "Set `expanded1` to the expanded `image1`, then display it with `show_images`.\n",
    "\n",
    "[This page](https://docs.scipy.org/doc/numpy/reference/arrays.indexing.html#boolean-array-indexing)\n",
    "from the numpy docs has some useful information that will allow you\n",
    "to use indexing instead of `for` loops.\n",
    "\n",
    "However, the slickest implementation uses one very short line of code.\n",
    "*Hint:* If you index an array with another array or list as in question 5, your\n",
    "array (or list) of indices can contain repeats, as in `array1[[0, 1, 0]]`.\n",
    "Investigate what happens in that case."
   ]
  },
  {
   "cell_type": "code",
   "execution_count": 5,
   "metadata": {
    "collapsed": true,
    "scrolled": false
   },
   "outputs": [],
   "source": [
    "# This array is provided for your convenience.\n",
    "transformed = np.array([12, 37, 65, 89, 114, 137, 162, 187, 214, 240, 250])\n",
    "\n",
    "def expand_image_range(image):\n",
    "    ...\n",
    "\n",
    "expanded1 = ...\n",
    "show_images(expanded1)"
   ]
  },
  {
   "cell_type": "code",
   "execution_count": 6,
   "metadata": {
    "collapsed": true
   },
   "outputs": [],
   "source": [
    "_ = ok.grade('q10')\n",
    "_ = ok.backup()"
   ]
  },
  {
   "cell_type": "markdown",
   "metadata": {},
   "source": [
    "#### Question 11\n",
    "\n",
    "Eureka! You've managed to reveal the image that the text file represents.\n",
    "\n",
    "Now, define a function called `reveal_file` that takes in a filename\n",
    "and returns an expanded image. This should be relatively easy since you've\n",
    "defined functions for each step in the process.\n",
    "\n",
    "Then, set `expanded_images` to a list of all the revealed images. There are\n",
    "10 images to reveal (including the one you just revealed).\n",
    "\n",
    "Finally, use `show_images` to display the `expanded_images`."
   ]
  },
  {
   "cell_type": "code",
   "execution_count": 13,
   "metadata": {
    "collapsed": true
   },
   "outputs": [],
   "source": [
    "def reveal_file(filename):\n",
    "    ...\n",
    "\n",
    "filenames = ['1.txt', '2.txt', '3.txt', '4.txt', '5.txt',\n",
    "             '6.txt', '7.txt', '8.txt', '9.txt', '10.txt']\n",
    "expanded_images = ...\n",
    "\n",
    "show_images(expanded_images, ncols=5)"
   ]
  },
  {
   "cell_type": "markdown",
   "metadata": {},
   "source": [
    "Notice that 5 of the above images are of summer scenes; the other 5\n",
    "are of winter.\n",
    "\n",
    "Think about how you'd distinguish between pictures of summer and winter. What\n",
    "qualities of the image seem to signal to your brain that the image is one of\n",
    "summer? Of winter?\n",
    "\n",
    "One trait that seems specific to summer pictures is that the colors are warmer.\n",
    "Let's see if the proportion of pixels of each color in the image can let us\n",
    "distinguish between summer and winter pictures."
   ]
  },
  {
   "cell_type": "markdown",
   "metadata": {},
   "source": [
    "#### Question 12\n",
    "To simplify things, we can categorize each pixel according to its most intense\n",
    "(highest-value) channel.  (Remember, red, green, and blue are the 3 channels.)\n",
    "For example, we could just call a `[2 4 0]` pixel \"green.\"  If a pixel has a\n",
    "tie between several channels, let's count it as none of them.\n",
    "\n",
    "Write a function `proportion_by_channel`. It takes in an image.  It assigns\n",
    "each pixel to its greatest-intensity channel: red, green, or blue.  Then\n",
    "the function returns an array of length three containing the proportion of\n",
    "pixels categorized as red, the proportion categorized as green, and the\n",
    "proportion categorized as blue (respectively).  (Again, don't count pixels\n",
    "that are tied between 2 or 3 colors as any category, but do count them\n",
    "in the denominator when you're computing proportions.)\n",
    "\n",
    "For example:\n",
    "\n",
    "```\n",
    ">>> test_im = np.array([\n",
    "  [ [5, 2, 2], [2, 5, 10] ] \n",
    "])\n",
    ">>> proportion_by_channel(test_im)\n",
    "array([ 0.5, 0, 0.5 ])\n",
    "\n",
    "# If tied, count neither as the highest\n",
    ">>> test_im = np.array([\n",
    "  [ [5, 2, 5], [2, 50, 50] ] \n",
    "])\n",
    ">>> proportion_by_channel(test_im)\n",
    "array([ 0, 0, 0 ])\n",
    "```\n",
    "\n",
    "Then, set `image_proportions` to the result of `proportion_by_channel` called\n",
    "on each image in `expanded_images` as a 2d array.\n",
    "\n",
    "*Hint:* It's fine to use a `for` loop, but for a difficult challenge, try\n",
    "avoiding it.  (As a side benefit, your code will be much faster.)  Our solution\n",
    "uses the `NumPy` functions `np.reshape`, `np.sort`, `np.argmax`, and `np.bincount`."
   ]
  },
  {
   "cell_type": "code",
   "execution_count": null,
   "metadata": {
    "collapsed": true,
    "for_assignment_type": "student"
   },
   "outputs": [],
   "source": [
    "def proportion_by_channel(image):\n",
    "    ...\n",
    "\n",
    "image_proportions = ...\n",
    "image_proportions"
   ]
  },
  {
   "cell_type": "code",
   "execution_count": 34,
   "metadata": {
    "collapsed": true
   },
   "outputs": [],
   "source": [
    "_ = ok.grade('q12')\n",
    "_ = ok.backup()"
   ]
  },
  {
   "cell_type": "markdown",
   "metadata": {},
   "source": [
    "Let's plot the proportions you computed above on a bar chart:"
   ]
  },
  {
   "cell_type": "code",
   "execution_count": 45,
   "metadata": {
    "collapsed": true
   },
   "outputs": [],
   "source": [
    "# You'll learn about Pandas and DataFrames soon.\n",
    "import pandas as pd\n",
    "pd.DataFrame({\n",
    "        'red': image_proportions[:, 0],\n",
    "        'green': image_proportions[:, 1],\n",
    "        'blue': image_proportions[:, 2]\n",
    "    }, index=pd.Series(['Image {}'.format(n) for n in range(1, 11)], name='image'))\\\n",
    "    .iloc[::-1]\\\n",
    "    .plot.barh();"
   ]
  },
  {
   "cell_type": "markdown",
   "metadata": {},
   "source": [
    "#### Question 13\n",
    "\n",
    "What do you notice about the colors present in the summer images compared to\n",
    "the winter ones?\n",
    "\n",
    "Use this info to write a function `summer_or_winter`. It takes in an image and\n",
    "returns `True` if the image is a summer image and `False` if the image is a\n",
    "winter image.\n",
    "\n",
    "**Do not hard-code the function to the 10 images you currently have (eg.\n",
    "`if image1, return False`).** We will run your function on other images\n",
    "that we've reserved for testing.\n",
    "\n",
    "You must classify all of the 10 provided images correctly to pass the test\n",
    "for this function.\n"
   ]
  },
  {
   "cell_type": "code",
   "execution_count": null,
   "metadata": {
    "collapsed": true,
    "for_assignment_type": "student"
   },
   "outputs": [],
   "source": [
    "def summer_or_winter(image):\n",
    "    ..."
   ]
  },
  {
   "cell_type": "code",
   "execution_count": 47,
   "metadata": {
    "collapsed": true
   },
   "outputs": [],
   "source": [
    "_ = ok.grade('q13')\n",
    "_ = ok.backup()"
   ]
  },
  {
   "cell_type": "markdown",
   "metadata": {},
   "source": [
    "Congrats! You've created your very first classifier for this class."
   ]
  },
  {
   "cell_type": "markdown",
   "metadata": {},
   "source": [
    "#### Question 14\n",
    "\n",
    "1. How do you think your classification function will perform\n",
    "   in general?\n",
    "2. Why do you think it will perform that way?\n",
    "3. What do you think would most likely give you false positives?\n",
    "4. False negatives?"
   ]
  },
  {
   "cell_type": "markdown",
   "metadata": {},
   "source": [
    "*Write your answer here, replacing this text.*"
   ]
  },
  {
   "cell_type": "markdown",
   "metadata": {},
   "source": [
    "**Final note:** While our approach here is simplistic, skin color segmentation\n",
    "-- figuring out which parts of the image belong to a human body -- is a\n",
    "key step in many algorithms such as face detection."
   ]
  },
  {
   "cell_type": "markdown",
   "metadata": {},
   "source": [
    "# Optional: Our code to encode images"
   ]
  },
  {
   "cell_type": "markdown",
   "metadata": {},
   "source": [
    "Here are the functions we used to generate the text files for this assignment.\n",
    "\n",
    "Feel free to send not-so-secret messages to your friends if you'd like."
   ]
  },
  {
   "cell_type": "code",
   "execution_count": 58,
   "metadata": {
    "collapsed": true
   },
   "outputs": [],
   "source": [
    "import skimage as sk\n",
    "import skimage.io as skio"
   ]
  },
  {
   "cell_type": "code",
   "execution_count": 59,
   "metadata": {
    "collapsed": true
   },
   "outputs": [],
   "source": [
    "def read_image(filename):\n",
    "    '''Reads in an image from a filename'''\n",
    "    return skio.imread(filename)"
   ]
  },
  {
   "cell_type": "code",
   "execution_count": 60,
   "metadata": {
    "collapsed": true
   },
   "outputs": [],
   "source": [
    "def compress_image(im):\n",
    "    '''Takes an image as an array and compresses it to look black.'''\n",
    "    res = im / 25\n",
    "    return res.astype(np.uint8)"
   ]
  },
  {
   "cell_type": "code",
   "execution_count": 61,
   "metadata": {
    "collapsed": true
   },
   "outputs": [],
   "source": [
    "def to_text_file(im, filename):\n",
    "    '''\n",
    "    Takes in an image array and a filename for the resulting text file.\n",
    "    \n",
    "    Creates the encoded text file for later decoding.\n",
    "    '''\n",
    "    h, w, c = im.shape\n",
    "    to_rgb = ' '.join\n",
    "    to_row = '\\n'.join\n",
    "    to_lines = '\\n'.join\n",
    "    \n",
    "    rgb = [[to_rgb(triplet) for triplet in row] for row in im.astype(str)]\n",
    "    lines = to_lines([to_row(row) for row in rgb])\n",
    "\n",
    "    with open(filename, 'w') as f:\n",
    "        f.write('{} {}\\n'.format(h, w))\n",
    "        f.write(lines)\n",
    "        f.write('\\n')"
   ]
  },
  {
   "cell_type": "code",
   "execution_count": null,
   "metadata": {
    "collapsed": true
   },
   "outputs": [],
   "source": [
    "summers = skio.imread_collection('orig/summer/*.jpg')\n",
    "winters = skio.imread_collection('orig/winter/*.jpg')\n",
    "len(summers)"
   ]
  },
  {
   "cell_type": "code",
   "execution_count": null,
   "metadata": {
    "collapsed": true
   },
   "outputs": [],
   "source": [
    "sum_nums = np.array([ 5,  6,  9,  3,  2, 11, 12])\n",
    "win_nums = np.array([ 10,  7,  8,  1,  4, 13, 14])\n",
    "\n",
    "for im, n in zip(summers, sum_nums):\n",
    "    to_text_file(compress_image(im), '{}.txt'.format(n))\n",
    "for im, n in zip(winters, win_nums):\n",
    "    to_text_file(compress_image(im), '{}.txt'.format(n))"
   ]
  },
  {
   "cell_type": "markdown",
   "metadata": {
    "collapsed": true
   },
   "source": [
    "# 5. Submitting this assignment\n"
   ]
  },
  {
   "cell_type": "markdown",
   "metadata": {},
   "source": [
    "Upload your Notebook to your Portfolio"
   ]
  }
 ],
 "metadata": {
  "kernelspec": {
   "display_name": "Python 3",
   "language": "python",
   "name": "python3"
  },
  "language_info": {
   "codemirror_mode": {
    "name": "ipython",
    "version": 3
   },
   "file_extension": ".py",
   "mimetype": "text/x-python",
   "name": "python",
   "nbconvert_exporter": "python",
   "pygments_lexer": "ipython3",
   "version": "3.6.3"
  }
 },
 "nbformat": 4,
 "nbformat_minor": 1
}
