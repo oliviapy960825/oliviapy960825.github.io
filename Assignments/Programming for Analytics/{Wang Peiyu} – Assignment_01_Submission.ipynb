{
 "cells": [
  {
   "cell_type": "markdown",
   "metadata": {},
   "source": [
    "# Assignment 01 - Python 101\n",
    "*EMSE 6574 - Programming Analytics*\n",
    "\n",
    "Due **9/23/18 by 11:59pm**"
   ]
  },
  {
   "cell_type": "markdown",
   "metadata": {},
   "source": [
    "*Notes:*\n",
    " - All code should follow the PEP 8 Style Guide for Python\n",
    " - Assignment should be submitted using jupyter notebooks\n",
    "  - File name should follow “{Your Name} – Assignment_XX_Submission”\n",
    "  - Each Task should be contained in its own cell\n",
    "  - Each Task should be properly commented\n",
    "  - Each Task should print out the answer to the Task if appropriate (Ex. Task 2)\n",
    "  - Sample submission can be found on blackboard under the “outline” section\n",
    "  - **Not following these standards may result in lost points**"
   ]
  },
  {
   "cell_type": "markdown",
   "metadata": {},
   "source": [
    "## Task 1\n",
    "Create a function called *lst_count* that takes a list of integers/floats and returns the count of each element in the list.\n",
    "\n",
    "Ex. \\[‘a’, 4, 'a', 8, 4, ‘hello’, 'a'\\] -->  a –31, 4 – 2, 8 – 1, ‘hello’ - 1\n",
    "\n",
    "Hints: [Dictionary](http://anandology.com/python-practice-book/working-with-data.html#dictionaries), [Function Definitions](http://anandology.com/python-practice-book/getting-started.html#functions), [Lists](http://anandology.com/python-practice-book/getting-started.html#lists)"
   ]
  },
  {
   "cell_type": "code",
   "execution_count": 1,
   "metadata": {},
   "outputs": [
    {
     "name": "stdout",
     "output_type": "stream",
     "text": [
      "{'a': 3, 4: 2, 8: 1, 'hello': 1}\n"
     ]
    }
   ],
   "source": [
    "# Space for Task 1\n",
    "def lst_count(lst):\n",
    "    \"\"\"\n",
    "    returns a dictionary with the elements in the list as its keys, \n",
    "    and the counts of the elements as its values\n",
    "    Args:\n",
    "    lst(list) - a list of elements, including integers, floats and strings\n",
    "    Returns:\n",
    "    A dictionary with the elements in the list as its keys and the counts of\n",
    "    those elements as its values\n",
    "    \"\"\"\n",
    "    dictionary={}\n",
    "    for ele in lst:\n",
    "        if ele in dictionary:\n",
    "            dictionary[ele]+=1\n",
    "        else:\n",
    "            dictionary[ele]=1\n",
    "    return dictionary\n",
    "\n",
    "#Example\n",
    "print(lst_count(['a',4,'a',8,4,'hello','a']))"
   ]
  },
  {
   "cell_type": "markdown",
   "metadata": {},
   "source": [
    "## Task 2\n",
    "Create a function called lst_mean that takes a list of ints/floats/strs and returns the mean of the list (using  try/except).\n",
    "\n",
    "Ex. \\['h', 4, '64j', 3.2, '4.3'\\] --> 11.5\n",
    "\n",
    "Hints: [Lists](http://anandology.com/python-practice-book/getting-started.html#lists)"
   ]
  },
  {
   "cell_type": "code",
   "execution_count": 32,
   "metadata": {},
   "outputs": [
    {
     "name": "stdout",
     "output_type": "stream",
     "text": [
      "type is not int\n",
      "type is not int\n",
      "3.8333333333333335\n"
     ]
    }
   ],
   "source": [
    "# Space for Task 2\n",
    "def lst_mean(lst):\n",
    "    \"\"\"\n",
    "    returns the mean value of the integers and floats or elements that can be \n",
    "    converted to floats or integers\n",
    "    Args:\n",
    "    lst(list)- a list of elements including integers and floats and strings\n",
    "    Returns:\n",
    "    mean-the mean or average value of those ints/floats and strings that can be\n",
    "    converted to ints/floats\n",
    "    \"\"\"\n",
    "    lst_sum=0\n",
    "    count=0\n",
    "    for ele in lst:\n",
    "        try:\n",
    "            ele=float(ele)\n",
    "            lst_sum+=ele\n",
    "            count+=1\n",
    "        except ValueError as err:\n",
    "            print(\"type is not int\")\n",
    "    mean=lst_sum/count\n",
    "    return mean\n",
    "\n",
    "#Example\n",
    "lst=['h',4,'64j',3.2,'4.3']\n",
    "print(lst_mean(lst))"
   ]
  },
  {
   "cell_type": "markdown",
   "metadata": {},
   "source": [
    "## Task 3\n",
    "Create a function lst_distance that takes a list of ints/floats and determines the distance (difference) between each element and the mean of the list, using list comprehension.\n",
    "\n",
    "$$x_{i} = abs(x_{i} - \\mu_{x})$$\n",
    "\n",
    "Hints:[List Comprehension](http://anandology.com/python-practice-book/working-with-data.html#list-comprehensions), [Absolute Value](https://www.tutorialspoint.com/python/number_abs.htm)\n"
   ]
  },
  {
   "cell_type": "code",
   "execution_count": 1,
   "metadata": {},
   "outputs": [
    {
     "name": "stdout",
     "output_type": "stream",
     "text": [
      "[2, 1, 0, 1, 2]\n"
     ]
    }
   ],
   "source": [
    "# Space for Task 3\n",
    "from statistics import mean\n",
    "def lst_distance(lst):\n",
    "    \"\"\"\n",
    "    returns None, and prints the list of the absolute distance between each elements\n",
    "    in the previous list and the average of that list\n",
    "    Args:\n",
    "    lst(list)- a list of integers/floats\n",
    "    Returns:\n",
    "    a new list of the absolute distance between each element\n",
    "    in the previous list and the mean of the previous list\n",
    "    \"\"\"\n",
    "    lst_mean=mean(lst)\n",
    "    return list(abs(x-lst_mean) for x in lst)\n",
    "\n",
    "#Example\n",
    "lst=[1,2,3,4,5]\n",
    "print(lst_distance(lst))"
   ]
  },
  {
   "cell_type": "markdown",
   "metadata": {},
   "source": [
    "## Task 4\n",
    "Create a function lst_var that takes a list of ints/floats and computes the variance. You should be able to accomplish this by modifying and/or leveraging your function from **Task 3**\n",
    "\n",
    "$$Var(X) = E[(X-\\mu)^{2}]$$\n",
    "\n",
    "Hint: x ** y = x^y\n"
   ]
  },
  {
   "cell_type": "code",
   "execution_count": 8,
   "metadata": {},
   "outputs": [
    {
     "name": "stdout",
     "output_type": "stream",
     "text": [
      "10\n"
     ]
    }
   ],
   "source": [
    "# Space for Task 4\n",
    "from statistics import mean\n",
    "def lst_var(lst):\n",
    "    \"\"\"\n",
    "    Returns None, and print the variance of the list of ints/floats\n",
    "    Args:\n",
    "    lst(list) - a list of ints/floats\n",
    "    Returns:\n",
    "    the variance of the list\n",
    "    \"\"\"\n",
    "    lst_mean=mean(lst)\n",
    "    new_list=list((x-lst_mean) for x in lst)\n",
    "    var=0\n",
    "    for ele in new_list:\n",
    "        var+=ele**2\n",
    "    return var\n",
    "    \n",
    "#Example\n",
    "lst=[1,2,3,4,5]\n",
    "print(lst_var(lst))"
   ]
  },
  {
   "cell_type": "markdown",
   "metadata": {},
   "source": [
    "## Task 5\n",
    "Create a function dict_agg that takes two dictionaries, where all values are ints/floats, and sums values based on the key.\n",
    "\n",
    "Ex. {‘a’ : 3, ‘b’ : 4, ‘c’ : 8}, {‘b’ : 2, ‘c’ : 4} -> {‘a’ : 3, ‘b’ : 6, ‘c’ : 12}\n",
    "\n",
    "Hints: [Dictionary](http://anandology.com/python-practice-book/working-with-data.html#dictionaries)"
   ]
  },
  {
   "cell_type": "code",
   "execution_count": 7,
   "metadata": {},
   "outputs": [
    {
     "name": "stdout",
     "output_type": "stream",
     "text": [
      "{'a': 3, 'b': 6, 'c': 12}\n"
     ]
    }
   ],
   "source": [
    "# Space for Task 5\n",
    "def dict_agg(dict1,dict2):\n",
    "    \"\"\"\n",
    "    Returns None, but print out the aggregated dictionary of the two dictionaries\n",
    "    the function takes in\n",
    "    Args:\n",
    "    dict1(dictionary), dict2(dictionary)- dictionary of integers and floats\n",
    "    Returns:\n",
    "    the new dictionary with the values summed up for the same keys\n",
    "    \"\"\"\n",
    "    new_dict={}\n",
    "    for key in dict1.keys():\n",
    "        new_dict[key]=dict1[key]\n",
    "    for key in dict2.keys():\n",
    "        if key in new_dict.keys():\n",
    "            new_dict[key]+=dict2[key]\n",
    "        else:\n",
    "            new_dict[key]=dict2[key]\n",
    "    return new_dict\n",
    "\n",
    "#Example\n",
    "dict1={'a':3,'b':4,'c':8}\n",
    "dict2={'b':2,'c':4}\n",
    "print(dict_agg(dict1,dict2))"
   ]
  },
  {
   "cell_type": "markdown",
   "metadata": {},
   "source": [
    "## Task 6\n",
    "Modify your function from **Task 5** so that it filters out non-numeric values.\n",
    "\n",
    "Ex. {‘a’ : ‘hello’, ‘b’ : 4, ‘c’ : 8}, { ‘b’ : 2, ‘c’ : ‘four’} -> {‘b’ : 6, ‘c’ : 8}\n",
    "\n",
    "*Note: 'a' does not exist in the output, as it does not have any numeric values associated with it.*\n"
   ]
  },
  {
   "cell_type": "code",
   "execution_count": 6,
   "metadata": {},
   "outputs": [
    {
     "name": "stdout",
     "output_type": "stream",
     "text": [
      "{'b': 6, 'c': 8}\n"
     ]
    }
   ],
   "source": [
    "# Space for Task 6\n",
    "def filter_dict(dict1,dict2):\n",
    "    \"\"\"\n",
    "    Returns a new dictionary with only numeric values and filters out the non-numeric values\n",
    "    Args:\n",
    "    dict1(dictionary), dict2(dictionary)- two dictionaries\n",
    "    Returns:\n",
    "    None, but print out the new dictionary which filters out the non-numeric values\n",
    "    \"\"\"\n",
    "    new_dict={}\n",
    "    for key in dict1.keys():\n",
    "        if type(dict1[key])==int:\n",
    "            new_dict[key]=dict1[key]\n",
    "    for key in dict2.keys():\n",
    "        if key in new_dict.keys():\n",
    "            if type(dict2[key])==int:\n",
    "                new_dict[key]+=dict2[key]\n",
    "        elif type(dict2[key])==int:\n",
    "            new_dict[key]=dict2[key]\n",
    "    return new_dict\n",
    "\n",
    "#Example\n",
    "dict1={'a':'hello','b':4,'c':8}\n",
    "dict2={'b':2,'c':'four'}\n",
    "print(filter_dict(dict1,dict2))"
   ]
  },
  {
   "cell_type": "markdown",
   "metadata": {},
   "source": [
    "## Task 7\n",
    "\n",
    "Create a function is_divisible that takes two numbers (x, y) and will return True if x % y == 0, otherwise returns False. Next create a lst_filter function that takes a function, list, and number and returns only elements in the list that pass is_divisible(list_element, number).\n",
    "\n",
    "Ex. lst_filter(is_divisble, \\[1,2,3,4,5,6\\], 3) -> \\[3, 6\\]\n"
   ]
  },
  {
   "cell_type": "code",
   "execution_count": 5,
   "metadata": {},
   "outputs": [
    {
     "name": "stdout",
     "output_type": "stream",
     "text": [
      "[3, 6]\n"
     ]
    }
   ],
   "source": [
    "# Space for Task 7\n",
    "def is_divisible(x,y):\n",
    "    \"\"\"\n",
    "    Returns a boolean value to indicate if x is divisible by y\n",
    "    Args:\n",
    "    x-number\n",
    "    y-number\n",
    "    Returns:\n",
    "    A boolean value indicating if x is divisible by y\n",
    "    \"\"\"\n",
    "    if x%y==0:\n",
    "        return True\n",
    "    else:\n",
    "        return False\n",
    "def lst_filter(func,lst,num):\n",
    "    \"\"\"\n",
    "    Returns a new list with all the elements in the previous list that\n",
    "    will return true after being processed with the function it takes in\n",
    "    Args:\n",
    "    func(function)- a function\n",
    "    lst(list)- a list of numbers\n",
    "    num(number)- a number\n",
    "    Returns:\n",
    "    a new list that will contain all the numbers in the previous list that\n",
    "    will return true after being processed with the function\n",
    "    \"\"\"\n",
    "    new_list=[]\n",
    "    for ele in lst:\n",
    "        if func(ele,num)==True:\n",
    "            new_list.append(ele)\n",
    "    return new_list\n",
    "\n",
    "#Example\n",
    "lst=[1,2,3,4,5,6]\n",
    "num=3\n",
    "print(lst_filter(is_divisible,lst,num))"
   ]
  },
  {
   "cell_type": "markdown",
   "metadata": {},
   "source": [
    "## Task 8\n",
    "\n",
    "Create a class ‘Car’ which has the following:\n",
    " - Instance attribute ‘mileage’ (int or float)\n",
    " - Instance attribute ‘color’ (string)\n",
    " - Instance attribute ‘make - model’ (string - ex. 'Nissan - Versa')\n",
    " - Instance attribute ‘id’ (int) – Unique id that identifies the vehicle\n",
    "  - could use class attribute\n",
    " - Method ‘__repr__()’ that returns a string \"id: Color, Make, Model\"\n",
    " - Method ‘travel(miles)’ that updates the cars ‘mileage’ accordingly\n",
    "  - Parameter ‘miles’ should be an int/float\n"
   ]
  },
  {
   "cell_type": "code",
   "execution_count": 2,
   "metadata": {},
   "outputs": [
    {
     "name": "stdout",
     "output_type": "stream",
     "text": [
      "2:red,Nissan - Versa\n"
     ]
    }
   ],
   "source": [
    "# Space for Task 8\n",
    "class Car():\n",
    "    \"\"\"\n",
    "    This is a class definition. It will return the id, color and make/model when\n",
    "    the method repr is called\n",
    "    \"\"\"\n",
    "    class_attr_mileage=\"int or float\"\n",
    "    class_attr_color=\"string\"\n",
    "    class_attr_make_model=\"string - ex. 'Nissan - Versa'\"\n",
    "    class_attr_id=\"int\"\n",
    "    def __init__(self,inst_attr_mileage, inst_attr_color, inst_attr_make_model, inst_attr_id):\n",
    "        \"\"\"\n",
    "        Constructor,returns None\n",
    "        Args:\n",
    "        self-indicating the object itself\n",
    "        inst_attr_mileage(number)-indicating the mileage of the car\n",
    "        inst_attr_color(string)-indicating the color of the car\n",
    "        inst_attr_make_model(string)-indicating the make and model of the car\n",
    "        inst_attr_id(number)-indicating the id of the car\n",
    "        \"\"\"\n",
    "        self.class_attr_mileage= inst_attr_mileage\n",
    "        self.class_attr_color=inst_attr_color\n",
    "        self.class_attr_make_model=inst_attr_make_model\n",
    "        self.class_attr_id=inst_attr_id\n",
    "    def repr(self):\n",
    "        \"\"\"\n",
    "        Return a string containing the id,color, make and model of the car\n",
    "        Args:\n",
    "        None\n",
    "        Returns:\n",
    "        A string containing the id, color, make and model of the car\n",
    "        \"\"\"\n",
    "        return (f'{self.class_attr_id}:{self.class_attr_color},{self.class_attr_make_model}')\n",
    "    \n",
    "#Example\n",
    "obj1=Car(1,\"red\",\"Nissan - Versa\",2)\n",
    "print(obj1.repr())"
   ]
  },
  {
   "cell_type": "markdown",
   "metadata": {},
   "source": [
    "## Task 9\n",
    "Create a function ‘car_filter(cars, color, make)’ that will filter ‘Car’ objects based on ‘color’ and/or ‘make/model’\n",
    "\n",
    "Ex. car_filter(cars, ‘yellow’, ‘telsa’) would return only yellow teslas, where car_filter(cars, ‘black’, None) should return any car that is black\n",
    "\n",
    "*Note: I would recommend creating a list of Car's and testing your function*"
   ]
  },
  {
   "cell_type": "code",
   "execution_count": 5,
   "metadata": {},
   "outputs": [
    {
     "name": "stdout",
     "output_type": "stream",
     "text": [
      "yellow Tesla\n",
      "yellow Toyota\n"
     ]
    }
   ],
   "source": [
    "# Space for Task 9\n",
    "def car_filter(cars,color,make):\n",
    "    \"\"\"\n",
    "    Returns a list of the cars based on the criteria taken in\n",
    "    Args:\n",
    "    cars (list) - a list of car objects\n",
    "    color(string)- indicating the criterion of the color of the car objects\n",
    "    make(string)- indicating the criterion of the make/model of the car objects\n",
    "    Returns:\n",
    "    a list of car objects filtered by the criteria given\n",
    "    \"\"\"\n",
    "    lst=[]\n",
    "    for ele in cars:\n",
    "        if color!=None:\n",
    "            if make!=None:\n",
    "                if (ele.class_attr_color==color)&(ele.class_attr_make_model==make):\n",
    "                    lst.append(ele)\n",
    "            else:\n",
    "                if ele.class_attr_color==color:\n",
    "                    lst.append(ele)\n",
    "        elif make!=None:\n",
    "            if ele.class_attr_make_model==make:\n",
    "                lst.append(ele)\n",
    "        else:\n",
    "            lst=cars\n",
    "    return lst\n",
    "\n",
    "#Example\n",
    "cars=[]\n",
    "car1=Car(1,\"yellow\",\"Tesla\",1)\n",
    "car2=Car(2,\"red\",\"Nissan - Versa\",2)\n",
    "car3=Car(3,\"blue\",\"RR\",3)\n",
    "car4=Car(4,\"yellow\",\"Toyota\",4)\n",
    "cars.append(car1)\n",
    "cars.append(car2)\n",
    "cars.append(car3)\n",
    "cars.append(car4)\n",
    "lst=car_filter(cars,\"yellow\",None)\n",
    "#lst=car_filter(cars,\"yellow\",\"Tesla\")\n",
    "for ele in lst:\n",
    "    print(f'{ele.class_attr_color} {ele.class_attr_make_model}')"
   ]
  },
  {
   "cell_type": "code",
   "execution_count": null,
   "metadata": {
    "collapsed": true
   },
   "outputs": [],
   "source": []
  },
  {
   "cell_type": "code",
   "execution_count": null,
   "metadata": {
    "collapsed": true
   },
   "outputs": [],
   "source": []
  }
 ],
 "metadata": {
  "kernelspec": {
   "display_name": "Python 3",
   "language": "python",
   "name": "python3"
  },
  "language_info": {
   "codemirror_mode": {
    "name": "ipython",
    "version": 3
   },
   "file_extension": ".py",
   "mimetype": "text/x-python",
   "name": "python",
   "nbconvert_exporter": "python",
   "pygments_lexer": "ipython3",
   "version": "3.6.7"
  }
 },
 "nbformat": 4,
 "nbformat_minor": 2
}
