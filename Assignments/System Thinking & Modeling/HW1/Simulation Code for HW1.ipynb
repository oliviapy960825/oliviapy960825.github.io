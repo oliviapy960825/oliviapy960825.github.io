{
 "cells": [
  {
   "cell_type": "code",
   "execution_count": null,
   "metadata": {},
   "outputs": [],
   "source": [
    "#use timeIndex to mark the hurricaneSpeed at a certain time\n",
    "#Not really using the below functions so commented them out\n",
    "\"\"\"\n",
    "def numOfBuildingsFailingFromHurricane(hurricaneSpeedList,timeIndex, buildingWithstandSpeed,numOfBuilding,numOfBuildingLeft):\n",
    "    if numOfBuildingLeft==0:\n",
    "        return numOfBuilding\n",
    "    elif hurricaneSpeedList[timeIndex]>buildingWithstandSpeed:\n",
    "        return numOfBuildingsFailingFromHurricane(hurricaneSpeedList,timeIndex+1,buildingWithstandSpeed,numOfBuilding+1,numOfBuildingLeft-1)\n",
    "    else:\n",
    "        return numOfBuildingsFailingFromHurricane(hurricaneSpeedList,timeIndex+1,buildingWithstandSpeed,numOfBuilding+1,numOfBuildingLeft)\n",
    "def numOfBuildingsFailingFromDebris(DebrisInTheAir,numOfDebrisCanWithstand,numOfBuilding,numOfBuildingLeft,rateOfDebrisThrowing):\n",
    "    if numOfBuildingLeft=0:\n",
    "        return numOfBuilding\n",
    "    if DebrisInTheAir>=numOfDebrisCanWithstand:\n",
    "        return numOfBuildingsFailingFromDebris(DebrisInTheAir+rateOfDebrisThrowing,numOfDebrisCanWithstand,numOfBuilding+1,numOfBuildingLeft-1,rateOfDebrisThrowing)\n",
    "    else:\n",
    "        return numOfBuildingsFailingFromDebris(DebrisInTheAir,numOfDebrisCanWithstand,numOfBuilding,numOfBuildingLeft,rateOfDebrisThrowing)\n",
    "\"\"\""
   ]
  },
  {
   "cell_type": "code",
   "execution_count": 17,
   "metadata": {},
   "outputs": [],
   "source": [
    "def isFailingFromHurricane(hurricaneSpeed, windSpeedBuildingCanWithstand):\n",
    "    if hurricaneSpeed>=windSpeedBuildingCanWithstand:\n",
    "        return 1\n",
    "    else:\n",
    "        return 0\n",
    "def isFailingFromDebris(DebrisInTheAir, numOfDebrisCanWithstand):\n",
    "    if DebrisInTheAir<numOfDebrisCanWithstand:\n",
    "        return 0\n",
    "    else:\n",
    "        return 1"
   ]
  },
  {
   "cell_type": "code",
   "execution_count": 11,
   "metadata": {},
   "outputs": [
    {
     "name": "stdout",
     "output_type": "stream",
     "text": [
      "[121.37779528 119.46977732 124.97157728 118.25429082 121.14932432\n",
      " 114.94560198 117.67118662 115.49892081 121.68571183 121.07422625\n",
      " 119.32405146 121.02068787 123.18932118 121.35774591 124.74514812\n",
      " 118.96715681 121.54963258 117.36948584 120.74486721 119.80292488\n",
      " 120.74054792 121.83333313 121.93835223 117.0611257  114.95346335\n",
      " 116.21890664 116.59251317 120.1374805  124.0171036  118.80922897\n",
      " 127.08366702 118.93531854 120.80869719 122.14689662 117.86234759\n",
      " 120.33025161 120.74100206 117.22271825 122.29655387 119.58844357\n",
      " 117.10896246 121.22487935 124.31509093 119.94410461 116.62632815\n",
      " 124.60414122 115.85451496 124.91269886 119.69336951 123.24927821\n",
      " 118.74524899 112.68056511 120.24833358 123.46429166 120.72349958\n",
      " 117.8869972  119.50613158 123.22421586 116.69677619 125.02465506\n",
      " 126.78691068 124.21199439 116.68110608 123.18254504 125.80128807\n",
      " 123.04017307 119.48501433 116.00835304 118.00004853 121.89171957\n",
      " 120.45398934 119.20352351 112.00957322 123.93528554 115.79826182\n",
      " 116.77090739 116.44212244 119.36628783 123.89825801 116.58663367\n",
      " 120.81358569 118.40657692 125.60560057 120.42156906 117.56488454\n",
      " 119.7429838  115.45181012 120.36591852 123.38797311 117.35652617\n",
      " 115.4399529  114.93639581 118.38660993 119.74187531 113.53479047\n",
      " 123.52127324 115.8789924  125.5642138  115.78341954 115.8857262 ]\n",
      "[119.74853519]\n"
     ]
    }
   ],
   "source": [
    "#For the hurricane Speed, since it's between 111 and 129 mph, I then assume that it is a normal\n",
    "#distribution with the mean of 120 and a standard deviation 3 so that 111 and 129 are both three \n",
    "#standard deviations away which includes 99% of the data\n",
    "import numpy as np\n",
    "L =np.random.normal(120, 3, 100000)\n",
    "#print(L)\n",
    "hurricaneSpeed = np.random.randn(1) * 3 + 120\n",
    "print(hurricaneSpeed)"
   ]
  },
  {
   "cell_type": "code",
   "execution_count": 27,
   "metadata": {},
   "outputs": [
    {
     "data": {
      "text/plain": [
       "'\\nPseudo Code\\nisMHFailingFromHurricane=isFailingFromHurricane(hurricaneSpeed,windSpeedMHCanWithstand)\\nisRBFailingFromHurricane=isFailingFromHurricane(hurricaneSpeed,windSpeedRBCanWithstand)\\nisCBFailingFromHurricane=isFailingFromHurricane(hurricaneSpeed,windSpeedCBCanWithstand)\\nisMHFailingFromDebris=isFailingFromDebris(numOfDebrisInTheAir,numOfDebrisMHCanWithstand)\\nisRBFailingFromDebris=isFailingFromDebris(numOfDebrisInTheAir,numOfDebrisRBCanWithstand)\\nisCBFailingFromDebris=isFailingFromDebris(numOfDebrisInTheAir,numOfDebrisCBCanWithstand)\\nnewDebris=debrisThrownFromHurricane+debrisThrownFromDebris\\ndebrisThrownFromHurricane=numOfBuildingsFailingFromHurricane(L,timeIndex, buildingWithstandSpeed,numOfBuilding,numOfBuildingLeft)+\\n                          isRBFailingFromHurricane*numOfRBFailingFromHurricane*numOfDebrisRBThrows+\\n                          isCBFailingFromHurricane*numOfRBFailingFromHurricane*numOfDebrisCBThrows\\ndebrisThrownFromDebris=isMHFailingFromDebris*numOfMHFailingFromDebris*numOfDebrisMHThrows+\\n                          isRBFailingFromDebris*numOfRBFailingFromDebris*numOfDebrisRBThrows+\\n                          isCBFailingFromDebris*numOfRBFailingFromDebris*numOfDebrisCBThrows\\nnumOfMHFailingFromHurricane+numOfMHFailingFromDebris<=numOfMH\\nnumOfRBFailingFromHurricane+numOfRBFailingFromDebris<=numOfRB\\nnumOfCBFailingFromHurricane+numOfMHFailingFromDebris<=numOfCB\\n'"
      ]
     },
     "execution_count": 27,
     "metadata": {},
     "output_type": "execute_result"
    }
   ],
   "source": [
    "numOfMH=100000*0.1\n",
    "numOfRB=100000*0.7\n",
    "numOfCB=100000*0.2\n",
    "windSpeedMHCanWithstand=90\n",
    "windSpeedRBCanWithstand=120\n",
    "windSpeedCBCanWithstand=160\n",
    "numOfDebrisMHCanWithstand=1\n",
    "numOfDebrisRBCanWithstand=500\n",
    "numOfDebrisCBCanWithstand=1000\n",
    "#I assume that when Mobile Home fails it throws 1 debris into the air\n",
    "#when Residential Building fails it throws 200 debris into the air\n",
    "#when Commercial Building fails it throws 500 debris into the air\n",
    "numOfDebrisMHThrows=1\n",
    "numOfDebrisRBThrows=200\n",
    "numOfDebrisCBThrows=500\n",
    "\"\"\"\n",
    "Pseudo Code\n",
    "isMHFailingFromHurricane=isFailingFromHurricane(hurricaneSpeed,windSpeedMHCanWithstand)\n",
    "isRBFailingFromHurricane=isFailingFromHurricane(hurricaneSpeed,windSpeedRBCanWithstand)\n",
    "isCBFailingFromHurricane=isFailingFromHurricane(hurricaneSpeed,windSpeedCBCanWithstand)\n",
    "isMHFailingFromDebris=isFailingFromDebris(numOfDebrisInTheAir,numOfDebrisMHCanWithstand)\n",
    "isRBFailingFromDebris=isFailingFromDebris(numOfDebrisInTheAir,numOfDebrisRBCanWithstand)\n",
    "isCBFailingFromDebris=isFailingFromDebris(numOfDebrisInTheAir,numOfDebrisCBCanWithstand)\n",
    "newDebris=debrisThrownFromHurricane+debrisThrownFromDebris\n",
    "debrisThrownFromHurricane=numOfBuildingsFailingFromHurricane(L,timeIndex, buildingWithstandSpeed,numOfBuilding,numOfBuildingLeft)+\n",
    "                          isRBFailingFromHurricane*numOfRBFailingFromHurricane*numOfDebrisRBThrows+\n",
    "                          isCBFailingFromHurricane*numOfRBFailingFromHurricane*numOfDebrisCBThrows\n",
    "debrisThrownFromDebris=isMHFailingFromDebris*numOfMHFailingFromDebris*numOfDebrisMHThrows+\n",
    "                          isRBFailingFromDebris*numOfRBFailingFromDebris*numOfDebrisRBThrows+\n",
    "                          isCBFailingFromDebris*numOfRBFailingFromDebris*numOfDebrisCBThrows\n",
    "numOfMHFailingFromHurricane+numOfMHFailingFromDebris<=numOfMH\n",
    "numOfRBFailingFromHurricane+numOfRBFailingFromDebris<=numOfRB\n",
    "numOfCBFailingFromHurricane+numOfMHFailingFromDebris<=numOfCB\n",
    "\"\"\""
   ]
  },
  {
   "cell_type": "code",
   "execution_count": 12,
   "metadata": {},
   "outputs": [
    {
     "data": {
      "text/plain": [
       "7.40641277190706e-41"
      ]
     },
     "execution_count": 12,
     "metadata": {},
     "output_type": "execute_result"
    }
   ],
   "source": [
    "\"\"\"import scipy.stats\n",
    "scipy.stats.norm.sf(160,120,3)\"\"\""
   ]
  },
  {
   "cell_type": "code",
   "execution_count": 32,
   "metadata": {},
   "outputs": [],
   "source": [
    "def model(hurricaneSpeedList,time,numOfMH,numOfRB,numOfCB,windSpeedMHCanWithstand,windSpeedRBCanWithstand,windSpeedCBCanWithstand,numOfDebrisMHCanWithstand,numOfDebrisRBCanWithstand,numOfDebrisCBCanWithstand,numOfDebrisMHThrows,numOfDebrisRBThrows,numOfDebrisCBThrows):\n",
    "    \"\"\"\n",
    "    This is to build a simulation model based on the user's anticipated length of the hurricane\n",
    "    and see how much damage the hurricane will do during its length.\n",
    "    Logic:\n",
    "    MHs are the first ones to fail, then they'll throw debris into the air, then we'll check if \n",
    "    RBs and CBs can still withstand the wind speed of the hurricane, if not, they are also destroyed\n",
    "    by the hurricane and throwing debris into the air. Then we'll check if the number of debris in the\n",
    "    air exceeds the withstand rate of MHs, RBs, and CBs,(yes in that order, because MHs are the weakeast\n",
    "    so they are always the first ones to fail, and the consequence of their failing should be counted in\n",
    "    the input of outcome prediction for RBs and CBs and it's the same between RBs and CBs), and if not, \n",
    "    the buildings fail and throw more debris into the air, but in the meantime we also check if there're still\n",
    "    MHs,RBs,and CBs left for hurricane & debris to destroy.\n",
    "    \"\"\"\n",
    "    numOfDebris=0\n",
    "    for timeIndex in range(time):\n",
    "        hurricaneSpeed=hurricaneSpeedList[timeIndex]\n",
    "        if (isFailingFromHurricane(hurricaneSpeed, windSpeedMHCanWithstand)&(numOfMH>0)):\n",
    "            numOfMH-=1\n",
    "            numOfDebris+=numOfDebrisMHThrows\n",
    "        if (isFailingFromHurricane(hurricaneSpeed, windSpeedRBCanWithstand)&(numOfRB>0)):\n",
    "            numOfRB-=1\n",
    "            numOfDebris+=numOfDebrisRBThrows\n",
    "        if (isFailingFromHurricane(hurricaneSpeed, windSpeedCBCanWithstand)&(numOfCB>0)):\n",
    "            numOfCB-=1\n",
    "            numOfDebris+=numODebrisInTheAirfDebrisCBThrows\n",
    "        if (isFailingFromDebris(numOfDebris, numOfDebrisMHCanWithstand)&(numOfMH>0)):\n",
    "            numOfMH-=1\n",
    "            numOfDebris+=numOfDebrisMHThrows\n",
    "        if (isFailingFromDebris(numOfDebris, numOfDebrisRBCanWithstand)&(numOfRB>0)):\n",
    "            numOfRB-=1\n",
    "            numOfDebris+=numOfDebrisRBThrows\n",
    "        if (isFailingFromDebris(numOfDebris, numOfDebrisCBCanWithstand)&(numOfCB>0)):\n",
    "            numOfCB-=1\n",
    "            numOfDebris+=numOfDebrisCBThrows\n",
    "    if (isFailingFromDebris(numOfDebris, numOfDebrisMHCanWithstand)):\n",
    "        numOfMH=0\n",
    "        numOfDebris+=numOfDebrisMHThrows*numOfMH\n",
    "    if (isFailingFromDebris(numOfDebris, numOfDebrisRBCanWithstand)):\n",
    "        numOfRB=0\n",
    "        numOfDebris+=numOfDebrisRBThrows*numOfRB\n",
    "    if (isFailingFromDebris(numOfDebris, numOfDebrisCBCanWithstand)):\n",
    "        numOfCB=0\n",
    "        numOfDebris+=numOfDebrisCBThrows*numOfCB\n",
    "    print(\"After time units of \"+str(time)+\",\")\n",
    "    print(\"The number of Mobile Homes left is: \"+str(numOfMH)+\".\")\n",
    "    print(\"The number of Residential Buildings left is: \"+str(numOfRB)+\".\")\n",
    "    print(\"And the number of Commercial Buildings left is: \"+str(numOfCB)+\".\")\n",
    "    print(\"The number of Debris in the air is: \"+str(numOfDebris)+\".\")\n",
    "    if (numOfMH==0)&(numOfRB==0)&(numOfCB==0):\n",
    "        print(\"Everything is destroyed\")\n",
    "    #I tried to write a model for finding the \"no return\" point but could not figure out where exactly\n",
    "    #the \"no return\" point should lay. I found it hard to clarify what exactly a \"no return\" point is\n",
    "    #If time unit is not cleanly cut in the consideration, everything will eventually fail. It's just \n",
    "    #a matter of time. If time unit is cleanly cut in the consideration, at a certain time, the number \n",
    "    #of debris in the air and the number of each type of buildings left could be calculated but it's not\n",
    "    #like hurricane just disappears after that certain time units define...or could it?"
   ]
  },
  {
   "cell_type": "code",
   "execution_count": 33,
   "metadata": {},
   "outputs": [
    {
     "name": "stdout",
     "output_type": "stream",
     "text": [
      "After time units of 10,\n",
      "The number of Mobile Homes left is: 0.\n",
      "The number of Residential Buildings left is: 0.\n",
      "And the number of Commercial Buildings left is: 0.\n",
      "The number of Debris in the air is: 4720.\n",
      "Everything is destroyed\n"
     ]
    }
   ],
   "source": [
    "#example user experiment\n",
    "experiment_time=10\n",
    "model(L,experiment_time,numOfMH,numOfRB,numOfCB,windSpeedMHCanWithstand,windSpeedRBCanWithstand,windSpeedCBCanWithstand,numOfDebrisMHCanWithstand,numOfDebrisRBCanWithstand,numOfDebrisCBCanWithstand,numOfDebrisMHThrows,numOfDebrisRBThrows,numOfDebrisCBThrows)"
   ]
  },
  {
   "cell_type": "code",
   "execution_count": null,
   "metadata": {},
   "outputs": [],
   "source": []
  }
 ],
 "metadata": {
  "kernelspec": {
   "display_name": "Python 3",
   "language": "python",
   "name": "python3"
  },
  "language_info": {
   "codemirror_mode": {
    "name": "ipython",
    "version": 3
   },
   "file_extension": ".py",
   "mimetype": "text/x-python",
   "name": "python",
   "nbconvert_exporter": "python",
   "pygments_lexer": "ipython3",
   "version": "3.7.3"
  }
 },
 "nbformat": 4,
 "nbformat_minor": 2
}
